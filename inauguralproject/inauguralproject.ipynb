{
 "cells": [
  {
   "cell_type": "markdown",
   "metadata": {},
   "source": [
    "# Inaugural Project"
   ]
  },
  {
   "attachments": {},
   "cell_type": "markdown",
   "metadata": {},
   "source": [
    "> **Note the following:** \n",
    "> 1. This is an example of how to structure your **inaugural project**.\n",
    "> 1. Remember the general advice on structuring and commenting your code\n",
    "> 1. The `inauguralproject.py` file includes a function which can be used multiple times in this notebook."
   ]
  },
  {
   "cell_type": "markdown",
   "metadata": {},
   "source": [
    "Imports and set magics:"
   ]
  },
  {
   "cell_type": "code",
   "execution_count": 1,
   "metadata": {},
   "outputs": [],
   "source": [
    "import numpy as np\n",
    "import pandas as pd\n",
    "from matplotlib import pyplot as plt\n",
    "import math\n",
    "from scipy import optimize\n",
    "\n",
    "# autoreload modules when code is run. Otherwise, python will not see recent changes. \n",
    "%load_ext autoreload\n",
    "%autoreload 2\n",
    "\n",
    "# Import your own code\n",
    "import inauguralproject as model\n",
    "hsm = model.HouseholdSpecializationModelClass()"
   ]
  },
  {
   "cell_type": "markdown",
   "metadata": {},
   "source": [
    "# Question 1"
   ]
  },
  {
   "attachments": {},
   "cell_type": "markdown",
   "metadata": {},
   "source": [
    "To solve the household model, we start by defining the values given to alpha and sigma. Next we create a loop in a loop that maximize the utility of the choices given to the household, for the values of alpha and sigma. \n",
    "\n",
    "In the loop we used the solve_descrete model given from the assignment text, and calculated the different values for HF and HM. \n",
    "\n",
    "Finally we plottet HF/HM for the different values of alpha and sigma."
   ]
  },
  {
   "cell_type": "code",
   "execution_count": 2,
   "metadata": {},
   "outputs": [],
   "source": [
    "hsm.par.alpha = 0.4"
   ]
  },
  {
   "cell_type": "code",
   "execution_count": 3,
   "metadata": {},
   "outputs": [
    {
     "name": "stdout",
     "output_type": "stream",
     "text": [
      "LM: 3.5 for alpha and sigma: (0.4, 1.0)\n",
      "LF: 5.5 for alpha and sigma: (0.4, 1.0)\n",
      "HM: 5.5 for alpha and sigma: (0.4, 1.0)\n",
      "HF: 3.5 for alpha and sigma: (0.4, 1.0)\n"
     ]
    },
    {
     "name": "stderr",
     "output_type": "stream",
     "text": [
      "/Users/nina/Source/projects-2023-ctrl-alt-elite/inauguralproject/inauguralproject.py:66: RuntimeWarning: invalid value encountered in reciprocal\n",
      "  utility = np.fmax(Q,1e-8)**(1-par.rho)/(1-par.rho)\n"
     ]
    }
   ],
   "source": [
    "dsol = hsm.solve_discrete()\n",
    "print(f'LM: {dsol.LM} for alpha and sigma: {hsm.par.alpha, hsm.par.sigma}')\n",
    "print(f'LF: {dsol.LF} for alpha and sigma: {hsm.par.alpha, hsm.par.sigma}')\n",
    "print(f'HM: {dsol.HM} for alpha and sigma: {hsm.par.alpha, hsm.par.sigma}')\n",
    "print(f'HF: {dsol.HF} for alpha and sigma: {hsm.par.alpha, hsm.par.sigma}')"
   ]
  },
  {
   "cell_type": "code",
   "execution_count": 4,
   "metadata": {},
   "outputs": [
    {
     "name": "stderr",
     "output_type": "stream",
     "text": [
      "/Users/nina/Source/projects-2023-ctrl-alt-elite/inauguralproject/inauguralproject.py:62: RuntimeWarning: divide by zero encountered in reciprocal\n",
      "  H = ((1-par.alpha)*HM**((par.sigma-1)/par.sigma) + par.alpha*HF**((par.sigma-1)/par.sigma))**(par.sigma/(par.sigma-1))\n",
      "/Users/nina/Source/projects-2023-ctrl-alt-elite/inauguralproject/inauguralproject.py:62: RuntimeWarning: invalid value encountered in reciprocal\n",
      "  H = ((1-par.alpha)*HM**((par.sigma-1)/par.sigma) + par.alpha*HF**((par.sigma-1)/par.sigma))**(par.sigma/(par.sigma-1))\n"
     ]
    },
    {
     "name": "stdout",
     "output_type": "stream",
     "text": [
      "HF/HM: 0.5454545454545454 for alpha and sigma: (0.25, 0.5)\n",
      "HF/HM: 0.3076923076923077 for alpha and sigma: (0.25, 1.0)\n",
      "HF/HM: 0.21428571428571427 for alpha and sigma: (0.25, 1.5)\n",
      "HF/HM: 1.0 for alpha and sigma: (0.5, 0.5)\n",
      "HF/HM: 1.0 for alpha and sigma: (0.5, 1.0)\n",
      "HF/HM: 1.0 for alpha and sigma: (0.5, 1.5)\n",
      "HF/HM: 1.8333333333333333 for alpha and sigma: (0.75, 0.5)\n",
      "HF/HM: 3.25 for alpha and sigma: (0.75, 1.0)\n",
      "HF/HM: 4.666666666666667 for alpha and sigma: (0.75, 1.5)\n"
     ]
    },
    {
     "data": {
      "text/plain": [
       "[0.5454545454545454,\n",
       " 0.3076923076923077,\n",
       " 0.21428571428571427,\n",
       " 1.0,\n",
       " 1.0,\n",
       " 1.0,\n",
       " 1.8333333333333333,\n",
       " 3.25,\n",
       " 4.666666666666667]"
      ]
     },
     "execution_count": 4,
     "metadata": {},
     "output_type": "execute_result"
    }
   ],
   "source": [
    "# Defining values of alpha and sigma\n",
    "alpha_vec = np.array([0.25, 0.5, 0.75])\n",
    "sigma_vec = np.array([0.5, 1., 1.5])\n",
    "\n",
    "#Creating an empty list for the loop\n",
    "Female_Male = []\n",
    "\n",
    "#Looping over different values of alpha and sigma, and caluclating the ratio of HF and HM\n",
    "for i in alpha_vec:\n",
    "    for j in sigma_vec:\n",
    "        hsm.par.alpha = i\n",
    "        hsm.par.sigma = j\n",
    "\n",
    "        Q1sol = hsm.solve_discrete()\n",
    "\n",
    "        print(f'HF/HM: {Q1sol.HF/Q1sol.HM} for alpha and sigma: {hsm.par.alpha, hsm.par.sigma}')\n",
    "\n",
    "        Female_Male.append(Q1sol.HF/Q1sol.HM)\n",
    "\n",
    "Female_Male"
   ]
  },
  {
   "cell_type": "code",
   "execution_count": 10,
   "metadata": {},
   "outputs": [
    {
     "data": {
      "text/plain": [
       "['α=0.25,σ=0.5',\n",
       " 'α=0.25,σ=1.0',\n",
       " 'α=0.25,σ=1.5',\n",
       " 'α=0.5,σ=0.5',\n",
       " 'α=0.5,σ=1.0',\n",
       " 'α=0.5,σ=1.5',\n",
       " 'α=0.75,σ=0.5',\n",
       " 'α=0.75,σ=1.0',\n",
       " 'α=0.75,σ=1.5']"
      ]
     },
     "execution_count": 10,
     "metadata": {},
     "output_type": "execute_result"
    }
   ],
   "source": [
    "#Creating an empty list for the loop\n",
    "label = []\n",
    "\n",
    "#Looping over the alpha and sigma vectors to create names for the bar plot\n",
    "for i in alpha_vec:\n",
    "    for j in sigma_vec:\n",
    "        label.append('\\u03B1=' + str(i)+ ','+ '\\u03C3=' + str(j))\n",
    "    \n",
    "label"
   ]
  },
  {
   "cell_type": "code",
   "execution_count": 11,
   "metadata": {},
   "outputs": [
    {
     "data": {
      "image/png": "[encoded data removed]",
      "text/plain": [
       "<Figure size 1000x500 with 1 Axes>"
      ]
     },
     "metadata": {},
     "output_type": "display_data"
    }
   ],
   "source": [
    "# Starting the figure\n",
    "barplot = plt.figure(figsize = (10, 5))\n",
    " \n",
    "# Creating the bar plot\n",
    "plt.bar(label, Female_Male, color ='maroon',\n",
    "        width = 0.4)\n",
    "\n",
    "plt.xticks(rotation=90)\n",
    "plt.xlabel(\"Alpha and sigma values\")\n",
    "plt.ylabel(\"HF / HM\")\n",
    "plt.title(\"How HF / HM changes with varying alpha and sigma\")\n",
    "plt.show()"
   ]
  },
  {
   "attachments": {},
   "cell_type": "markdown",
   "metadata": {},
   "source": [
    "We find that alpha represends the productivity of females in the households rative to males, and sigma represends the substitution effect. When alpha is equal to 0.5 the houshold labor between the two sexes are equal to eachother as they are equally good at homework. \n",
    "\n",
    "However when men are more productive at homeproduction meaning that alpha < 0.5, they will work more in the home than females, and the other way around for alpha > 0.5."
   ]
  },
  {
   "cell_type": "markdown",
   "metadata": {},
   "source": [
    "# Question 2"
   ]
  },
  {
   "attachments": {},
   "cell_type": "markdown",
   "metadata": {},
   "source": [
    "We illustrate the logarithmic functions against eachother. To do this we use the descrete model by using the code given for the assignment as in question 1. "
   ]
  },
  {
   "cell_type": "code",
   "execution_count": 7,
   "metadata": {},
   "outputs": [
    {
     "name": "stderr",
     "output_type": "stream",
     "text": [
      "/Users/nina/Source/projects-2023-ctrl-alt-elite/inauguralproject/inauguralproject.py:66: RuntimeWarning: invalid value encountered in reciprocal\n",
      "  utility = np.fmax(Q,1e-8)**(1-par.rho)/(1-par.rho)\n"
     ]
    },
    {
     "name": "stdout",
     "output_type": "stream",
     "text": [
      "[0.22314355131420976, 0.0, 0.0, -0.11778303565638351, -0.2231435513142097]\n",
      "[-0.2231435513142097, -0.10536051565782628, 0.0, 0.09531017980432493, 0.1823215567939546]\n"
     ]
    }
   ],
   "source": [
    "# Array of values that wF can take\n",
    "wF_vec = np.array([0.8, 0.9, 1.0, 1.1, 1.2])\n",
    "\n",
    "# Creating two empty lists for the loop\n",
    "log_HF_HM = []\n",
    "log_wF_wM = []\n",
    "\n",
    "# Defining the standard values of alpha and sigma\n",
    "hsm.par.alpha = 0.5\n",
    "hsm.par.sigma = 1\n",
    "\n",
    "# Looping over the array of values that wF can take\n",
    "for i in wF_vec:\n",
    "    hsm.par.wF = i\n",
    "\n",
    "    # Solving for each value of wF\n",
    "    Q2sol = hsm.solve_discrete()\n",
    "\n",
    "    # Appending the solution to the lists\n",
    "    log_HF_HM.append(math.log(Q2sol.HF/Q2sol.HM))\n",
    "\n",
    "    log_wF_wM.append(math.log(hsm.par.wF/hsm.par.wM))\n",
    "\n",
    "\n",
    "print(log_HF_HM)\n",
    "print(log_wF_wM)\n"
   ]
  },
  {
   "cell_type": "code",
   "execution_count": 8,
   "metadata": {},
   "outputs": [
    {
     "data": {
      "image/png": "[encoded data removed]",
      "text/plain": [
       "<Figure size 700x600 with 1 Axes>"
      ]
     },
     "metadata": {},
     "output_type": "display_data"
    }
   ],
   "source": [
    "#Illustrating the model\n",
    "fig = plt.figure(figsize=(7,6))\n",
    "ax = fig.add_subplot(1,1,1)\n",
    "ax.plot(log_HF_HM,log_wF_wM)\n",
    "ax.scatter(log_HF_HM,log_wF_wM)\n",
    "ax.set_title('log(HF/HM) against log(wF/wM) for varying values of wF')\n",
    "ax.set_xlabel('$log(HF/HM)$')\n",
    "ax.set_ylabel('$log(wF/wM)$')\n",
    "\n",
    "\n",
    "annotations=[\"wF: 0.8\",\"wF: 0.9\",\"wF: 1.0\",\"wF: 1.1\",\"wF: 1.2\"]\n",
    "for i, label in enumerate(annotations):\n",
    "    plt.annotate(label, (log_HF_HM[i], log_wF_wM[i]))"
   ]
  },
  {
   "attachments": {},
   "cell_type": "markdown",
   "metadata": {},
   "source": [
    "This shows us that when the female wage is relatively higher than the male wage, the females work less in the home. And the other way round when the male wage is relatively higher. "
   ]
  },
  {
   "cell_type": "markdown",
   "metadata": {},
   "source": [
    "# Question 3"
   ]
  },
  {
   "attachments": {},
   "cell_type": "markdown",
   "metadata": {},
   "source": [
    "Explain your code and procedure\n",
    "\n",
    "We now assume that the choice set is continuous"
   ]
  },
  {
   "cell_type": "code",
   "execution_count": 154,
   "metadata": {},
   "outputs": [],
   "source": [
    "# code\n",
    "csol = hsm.solve_cont()"
   ]
  },
  {
   "cell_type": "code",
   "execution_count": 155,
   "metadata": {},
   "outputs": [
    {
     "data": {
      "text/plain": [
       "namespace(LM_vec=array([0., 0., 0., 0., 0.]),\n",
       "          HM_vec=array([0., 0., 0., 0., 0.]),\n",
       "          LF_vec=array([0., 0., 0., 0., 0.]),\n",
       "          HF_vec=array([0., 0., 0., 0., 0.]),\n",
       "          beta0=nan,\n",
       "          beta1=nan,\n",
       "          LM=3.1252051250240678,\n",
       "          HM=4.806325130949769,\n",
       "          LF=5.504334814287036,\n",
       "          HF=3.996347733203053)"
      ]
     },
     "execution_count": 155,
     "metadata": {},
     "output_type": "execute_result"
    }
   ],
   "source": [
    "hsm.sol"
   ]
  },
  {
   "cell_type": "markdown",
   "metadata": {},
   "source": [
    "ADD CONCISE CONLUSION."
   ]
  },
  {
   "attachments": {},
   "cell_type": "markdown",
   "metadata": {},
   "source": [
    "# Question 4"
   ]
  },
  {
   "cell_type": "code",
   "execution_count": null,
   "metadata": {},
   "outputs": [],
   "source": [
    "# code"
   ]
  },
  {
   "cell_type": "markdown",
   "metadata": {},
   "source": []
  }
 ],
 "metadata": {
  "kernelspec": {
   "display_name": "base",
   "language": "python",
   "name": "python3"
  },
  "language_info": {
   "codemirror_mode": {
    "name": "ipython",
    "version": 3
   },
   "file_extension": ".py",
   "mimetype": "text/x-python",
   "name": "python",
   "nbconvert_exporter": "python",
   "pygments_lexer": "ipython3",
   "version": "3.9.13"
  },
  "toc-autonumbering": true,
  "vscode": {
   "interpreter": {
    "hash": "47ef90cdf3004d3f859f1fb202523c65c07ba7c22eefd261b181f4744e2d0403"
   }
  }
 },
 "nbformat": 4,
 "nbformat_minor": 4
}
