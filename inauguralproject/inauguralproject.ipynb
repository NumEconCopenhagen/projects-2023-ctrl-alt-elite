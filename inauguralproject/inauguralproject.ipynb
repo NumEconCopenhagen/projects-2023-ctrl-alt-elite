{
 "cells": [
  {
   "cell_type": "markdown",
   "metadata": {},
   "source": [
    "# Inaugural Project"
   ]
  },
  {
   "attachments": {},
   "cell_type": "markdown",
   "metadata": {},
   "source": [
    "> **Note the following:** \n",
    "> 1. This is an example of how to structure your **inaugural project**.\n",
    "> 1. Remember the general advice on structuring and commenting your code\n",
    "> 1. The `inauguralproject.py` file includes a function which can be used multiple times in this notebook."
   ]
  },
  {
   "cell_type": "markdown",
   "metadata": {},
   "source": [
    "Imports and set magics:"
   ]
  },
  {
   "cell_type": "code",
   "execution_count": 10,
   "metadata": {},
   "outputs": [
    {
     "name": "stdout",
     "output_type": "stream",
     "text": [
      "The autoreload extension is already loaded. To reload it, use:\n",
      "  %reload_ext autoreload\n"
     ]
    }
   ],
   "source": [
    "import numpy as np\n",
    "import pandas as pd\n",
    "from matplotlib import pyplot as plt\n",
    "import math\n",
    "from scipy import optimize\n",
    "\n",
    "# autoreload modules when code is run. Otherwise, python will not see recent changes. \n",
    "%load_ext autoreload\n",
    "%autoreload 2\n",
    "\n",
    "# Import your own code\n",
    "import inauguralproject as model\n",
    "hsm = model.HouseholdSpecializationModelClass()"
   ]
  },
  {
   "cell_type": "markdown",
   "metadata": {},
   "source": [
    "# Question 1"
   ]
  },
  {
   "cell_type": "markdown",
   "metadata": {},
   "source": [
    "**Explain how you solve the model**"
   ]
  },
  {
   "cell_type": "code",
   "execution_count": 125,
   "metadata": {},
   "outputs": [],
   "source": [
    "hsm.par.alpha = 0.4"
   ]
  },
  {
   "cell_type": "code",
   "execution_count": 126,
   "metadata": {},
   "outputs": [
    {
     "name": "stdout",
     "output_type": "stream",
     "text": [
      "LM: 2.0 for alpha and sigma: (0.4, 1)\n",
      "LF: 6.5 for alpha and sigma: (0.4, 1)\n",
      "HM: 6.0 for alpha and sigma: (0.4, 1)\n",
      "HF: 3.0 for alpha and sigma: (0.4, 1)\n"
     ]
    }
   ],
   "source": [
    "dsol = hsm.solve_discrete()\n",
    "print(f'LM: {dsol.LM} for alpha and sigma: {hsm.par.alpha, hsm.par.sigma}')\n",
    "print(f'LF: {dsol.LF} for alpha and sigma: {hsm.par.alpha, hsm.par.sigma}')\n",
    "print(f'HM: {dsol.HM} for alpha and sigma: {hsm.par.alpha, hsm.par.sigma}')\n",
    "print(f'HF: {dsol.HF} for alpha and sigma: {hsm.par.alpha, hsm.par.sigma}')"
   ]
  },
  {
   "cell_type": "code",
   "execution_count": 145,
   "metadata": {},
   "outputs": [
    {
     "name": "stderr",
     "output_type": "stream",
     "text": [
      "/Users/nina/Source/projects-2023-ctrl-alt-elite/inauguralproject/inauguralproject.py:60: RuntimeWarning: divide by zero encountered in reciprocal\n",
      "  Q = C**par.omega*H**(1-par.omega)\n",
      "/Users/nina/Source/projects-2023-ctrl-alt-elite/inauguralproject/inauguralproject.py:60: RuntimeWarning: invalid value encountered in reciprocal\n",
      "  Q = C**par.omega*H**(1-par.omega)\n",
      "/Users/nina/Source/projects-2023-ctrl-alt-elite/inauguralproject/inauguralproject.py:64: RuntimeWarning: invalid value encountered in reciprocal\n",
      "  epsilon_ = 1+1/par.epsilon\n"
     ]
    },
    {
     "name": "stdout",
     "output_type": "stream",
     "text": [
      "HF/HM: 0.5 for alpha and sigma: (0.25, 0.5)\n",
      "HF/HM: 0.2857142857142857 for alpha and sigma: (0.25, 1.0)\n",
      "HF/HM: 0.125 for alpha and sigma: (0.25, 1.5)\n",
      "HF/HM: 0.8888888888888888 for alpha and sigma: (0.5, 0.5)\n",
      "HF/HM: 0.8 for alpha and sigma: (0.5, 1.0)\n",
      "HF/HM: 0.8 for alpha and sigma: (0.5, 1.5)\n",
      "HF/HM: 1.5714285714285714 for alpha and sigma: (0.75, 0.5)\n",
      "HF/HM: 2.4 for alpha and sigma: (0.75, 1.0)\n",
      "HF/HM: 4.333333333333333 for alpha and sigma: (0.75, 1.5)\n"
     ]
    }
   ],
   "source": [
    "alpha_vec = np.array([0.25, 0.5, 0.75])\n",
    "sigma_vec = np.array([0.5, 1., 1.5])\n",
    "\n",
    "Female_Male = []\n",
    "\n",
    "for i in alpha_vec:\n",
    "    for j in sigma_vec:\n",
    "        hsm.par.alpha = i\n",
    "        hsm.par.sigma = j\n",
    "\n",
    "        Q1sol = hsm.solve_discrete()\n",
    "\n",
    "        print(f'HF/HM: {Q1sol.HF/Q1sol.HM} for alpha and sigma: {hsm.par.alpha, hsm.par.sigma}')\n",
    "\n",
    "        Female_Male.append(Q1sol.HF/Q1sol.HM)"
   ]
  },
  {
   "cell_type": "code",
   "execution_count": 148,
   "metadata": {},
   "outputs": [
    {
     "name": "stderr",
     "output_type": "stream",
     "text": [
      "No artists with labels found to put in legend.  Note that artists whose label start with an underscore are ignored when legend() is called with no argument.\n"
     ]
    },
    {
     "data": {
      "image/png": "[encoded data removed]",
      "text/plain": [
       "<Figure size 640x480 with 1 Axes>"
      ]
     },
     "metadata": {},
     "output_type": "display_data"
    }
   ],
   "source": [
    "\n",
    "data = [['\\u03B1=0.25, \\u03C3=0.5', 0.5454545454545454], \n",
    "        ['\\u03B1=0.25, \\u03C3=1', 0.3076923076923077], \n",
    "        ['\\u03B1=0.25, \\u03C3=1.5', 0.21428571428571427], \n",
    "        ['\\u03B1=0.5, \\u03C3=0.5', 1], \n",
    "        ['\\u03B1=0.5, \\u03C3=1', 1],\n",
    "        ['\\u03B1=0.5, \\u03C3=1.5', 1],\n",
    "        ['\\u03B1=0.75, \\u03C3=0.5', 1.8333333333333333], \n",
    "        ['\\u03B1=0.75, \\u03C3=1', 3.25],\n",
    "        ['\\u03B1=0.75, \\u03C3=1.5', 4.666666666666667]]\n",
    "\n",
    "\n",
    "data = pd.DataFrame(data, columns = ['Object', 'Value']) \n",
    "\n",
    "ax = plt.subplot(111) #specify a subplot\n",
    "\n",
    "bars = ax.bar(data['Object'], data['Value']) #Plot data on subplot axis\n",
    "y_pos = range(len(bars))\n",
    "\n",
    "plt.ylabel('HF/HM')\n",
    "plt.xticks(rotation=90)\n",
    "\n",
    "plt.legend()\n",
    "\n",
    "plt.show()"
   ]
  },
  {
   "cell_type": "markdown",
   "metadata": {},
   "source": [
    "# Question 2"
   ]
  },
  {
   "cell_type": "markdown",
   "metadata": {},
   "source": [
    "Explain your code and procedure"
   ]
  },
  {
   "cell_type": "code",
   "execution_count": 139,
   "metadata": {},
   "outputs": [
    {
     "name": "stderr",
     "output_type": "stream",
     "text": [
      "/Users/nina/Source/projects-2023-ctrl-alt-elite/inauguralproject/inauguralproject.py:64: RuntimeWarning: invalid value encountered in reciprocal\n",
      "  epsilon_ = 1+1/par.epsilon\n"
     ]
    },
    {
     "name": "stdout",
     "output_type": "stream",
     "text": [
      "[0.22314355131420976, 0.0, 0.0, -0.11778303565638351, -0.2231435513142097]\n",
      "[-0.2231435513142097, -0.10536051565782628, 0.0, 0.09531017980432493, 0.1823215567939546]\n"
     ]
    }
   ],
   "source": [
    "wF_vec = np.array([0.8, 0.9, 1.0, 1.1, 1.2])\n",
    "\n",
    "log_HF_HM = []\n",
    "\n",
    "log_wF_wM = []\n",
    "\n",
    "hsm.par.alpha = 0.5\n",
    "hsm.par.sigma = 1\n",
    "\n",
    "for i in wF_vec:\n",
    "    hsm.par.wF = i\n",
    "    \n",
    "    #print(f'log wF/wM: {hsm.par.wF/hsm.par.wM} for wF: {hsm.par.wF}')\n",
    "\n",
    "    Q2sol = hsm.solve_discrete()\n",
    "\n",
    "    log_HF_HM.append(math.log(Q2sol.HF/Q2sol.HM))\n",
    "\n",
    "    log_wF_wM.append(math.log(hsm.par.wF/hsm.par.wM))\n",
    "\n",
    "\n",
    "print(log_HF_HM)\n",
    "print(log_wF_wM)\n"
   ]
  },
  {
   "cell_type": "code",
   "execution_count": 140,
   "metadata": {},
   "outputs": [
    {
     "data": {
      "image/png": "[encoded data removed]",
      "text/plain": [
       "<Figure size 400x400 with 1 Axes>"
      ]
     },
     "metadata": {},
     "output_type": "display_data"
    }
   ],
   "source": [
    "fig = plt.figure(figsize=(4,4))\n",
    "ax = fig.add_subplot(1,1,1)\n",
    "ax.plot(log_HF_HM,log_wF_wM)\n",
    "ax.scatter(log_HF_HM,log_wF_wM)\n",
    "ax.set_title('TITLE')\n",
    "ax.set_xlabel('$log(HF/HM)$')\n",
    "ax.set_ylabel('$log(wF/wM)$')\n",
    "\n",
    "\n",
    "annotations=[\"wF: 0.8\",\"wF: 0.9\",\"wF: 1.0\",\"wF: 1.1\",\"wF: 1.2\"]\n",
    "for i, label in enumerate(annotations):\n",
    "    plt.annotate(label, (log_HF_HM[i], log_wF_wM[i]))"
   ]
  },
  {
   "cell_type": "markdown",
   "metadata": {},
   "source": [
    "# Question 3"
   ]
  },
  {
   "attachments": {},
   "cell_type": "markdown",
   "metadata": {},
   "source": [
    "Explain your code and procedure\n",
    "\n",
    "We now assume that the choice set is continuous"
   ]
  },
  {
   "cell_type": "code",
   "execution_count": 25,
   "metadata": {},
   "outputs": [],
   "source": [
    "# code\n",
    "csol = hsm.solve_cont()"
   ]
  },
  {
   "cell_type": "code",
   "execution_count": 23,
   "metadata": {},
   "outputs": [
    {
     "data": {
      "text/plain": [
       "namespace(LM_vec=array([0., 0., 0., 0., 0.]),\n",
       "          HM_vec=array([0., 0., 0., 0., 0.]),\n",
       "          LF_vec=array([0., 0., 0., 0., 0.]),\n",
       "          HF_vec=array([0., 0., 0., 0., 0.]),\n",
       "          beta0=nan,\n",
       "          beta1=nan,\n",
       "          LM=4.4550099123094915,\n",
       "          HM=4.455009909157937,\n",
       "          LF=4.455009912309491,\n",
       "          HF=4.455009909157936)"
      ]
     },
     "execution_count": 23,
     "metadata": {},
     "output_type": "execute_result"
    }
   ],
   "source": [
    "hsm.sol"
   ]
  },
  {
   "cell_type": "markdown",
   "metadata": {},
   "source": [
    "ADD CONCISE CONLUSION."
   ]
  },
  {
   "attachments": {},
   "cell_type": "markdown",
   "metadata": {},
   "source": [
    "# Question 4"
   ]
  },
  {
   "cell_type": "code",
   "execution_count": null,
   "metadata": {},
   "outputs": [],
   "source": [
    "# code"
   ]
  },
  {
   "cell_type": "markdown",
   "metadata": {},
   "source": []
  }
 ],
 "metadata": {
  "kernelspec": {
   "display_name": "base",
   "language": "python",
   "name": "python3"
  },
  "language_info": {
   "codemirror_mode": {
    "name": "ipython",
    "version": 3
   },
   "file_extension": ".py",
   "mimetype": "text/x-python",
   "name": "python",
   "nbconvert_exporter": "python",
   "pygments_lexer": "ipython3",
   "version": "3.9.13"
  },
  "toc-autonumbering": true,
  "vscode": {
   "interpreter": {
    "hash": "47ef90cdf3004d3f859f1fb202523c65c07ba7c22eefd261b181f4744e2d0403"
   }
  }
 },
 "nbformat": 4,
 "nbformat_minor": 4
}
