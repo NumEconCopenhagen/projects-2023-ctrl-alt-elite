{
 "cells": [
  {
   "cell_type": "markdown",
   "metadata": {},
   "source": [
    "# Inaugural Project"
   ]
  },
  {
   "attachments": {},
   "cell_type": "markdown",
   "metadata": {},
   "source": [
    "> **Note the following:** \n",
    "> 1. This is an example of how to structure your **inaugural project**.\n",
    "> 1. Remember the general advice on structuring and commenting your code\n",
    "> 1. The `inauguralproject.py` file includes a function which can be used multiple times in this notebook."
   ]
  },
  {
   "cell_type": "markdown",
   "metadata": {},
   "source": [
    "Imports and set magics:"
   ]
  },
  {
   "cell_type": "code",
   "execution_count": 1,
   "metadata": {},
   "outputs": [],
   "source": [
    "import numpy as np\n",
    "\n",
    "# autoreload modules when code is run. Otherwise, python will not see recent changes. \n",
    "%load_ext autoreload\n",
    "%autoreload 2\n",
    "\n",
    "# Import your own code\n",
    "import inauguralproject as model\n",
    "hsm = model.HouseholdSpecializationModelClass()"
   ]
  },
  {
   "cell_type": "code",
   "execution_count": 2,
   "metadata": {},
   "outputs": [],
   "source": [
    "hsm.par.alpha = 0.9"
   ]
  },
  {
   "cell_type": "code",
   "execution_count": 3,
   "metadata": {},
   "outputs": [
    {
     "name": "stdout",
     "output_type": "stream",
     "text": [
      "LM: 7.5 for alpha and sigma: (0.9, 1.0)\n",
      "LF: 1.0 for alpha and sigma: (0.9, 1.0)\n",
      "HM: 1.0 for alpha and sigma: (0.9, 1.0)\n",
      "HF: 7.5 for alpha and sigma: (0.9, 1.0)\n"
     ]
    }
   ],
   "source": [
    "dsol = hsm.solve_discrete()\n",
    "print(f'LM: {dsol.LM} for alpha and sigma: {hsm.par.alpha, hsm.par.sigma}')\n",
    "print(f'LF: {dsol.LF} for alpha and sigma: {hsm.par.alpha, hsm.par.sigma}')\n",
    "print(f'HM: {dsol.HM} for alpha and sigma: {hsm.par.alpha, hsm.par.sigma}')\n",
    "print(f'HF: {dsol.HF} for alpha and sigma: {hsm.par.alpha, hsm.par.sigma}')"
   ]
  },
  {
   "cell_type": "code",
   "execution_count": 5,
   "metadata": {},
   "outputs": [
    {
     "name": "stderr",
     "output_type": "stream",
     "text": [
      "c:\\Users\\emok\\OneDrive - Implement\\Skrivebord\\New_folder\\projects-2023-ctrl-alt-elite\\inauguralproject\\inauguralproject.py:60: RuntimeWarning: divide by zero encountered in reciprocal\n",
      "  H = ((1-par.alpha)*HM**((par.sigma-1)/par.sigma) + par.alpha*HF**((par.sigma-1)/par.sigma))**(par.sigma/(par.sigma-1))\n"
     ]
    },
    {
     "name": "stdout",
     "output_type": "stream",
     "text": [
      "HF/HM: 0.5454545454545454 for alpha and sigma: (0.25, 0.5)\n",
      "HF/HM: 0.3076923076923077 for alpha and sigma: (0.25, 1.0)\n",
      "HF/HM: 0.21428571428571427 for alpha and sigma: (0.25, 1.5)\n",
      "HF/HM: 1.0 for alpha and sigma: (0.5, 0.5)\n",
      "HF/HM: 1.0 for alpha and sigma: (0.5, 1.0)\n",
      "HF/HM: 1.0 for alpha and sigma: (0.5, 1.5)\n",
      "HF/HM: 1.8333333333333333 for alpha and sigma: (0.75, 0.5)\n",
      "HF/HM: 3.25 for alpha and sigma: (0.75, 1.0)\n",
      "HF/HM: 4.666666666666667 for alpha and sigma: (0.75, 1.5)\n"
     ]
    }
   ],
   "source": [
    "alpha_vec = np.array([0.25, 0.5, 0.75])\n",
    "sigma_vec = np.array([0.5, 1., 1.5])\n",
    "\n",
    "for i in alpha_vec:\n",
    "    for j in sigma_vec:\n",
    "        hsm.par.alpha = i\n",
    "        hsm.par.sigma = j\n",
    "\n",
    "        loopdsol = hsm.solve_discrete()\n",
    "\n",
    "        print(f'HF/HM: {loopdsol.HF/loopdsol.HM} for alpha and sigma: {hsm.par.alpha, hsm.par.sigma}')\n",
    "\n",
    "  "
   ]
  },
  {
   "cell_type": "code",
   "execution_count": 18,
   "metadata": {},
   "outputs": [
    {
     "name": "stderr",
     "output_type": "stream",
     "text": [
      "No artists with labels found to put in legend.  Note that artists whose label start with an underscore are ignored when legend() is called with no argument.\n"
     ]
    },
    {
     "data": {
      "image/png": "[encoded data removed]",
      "text/plain": [
       "<Figure size 640x480 with 1 Axes>"
      ]
     },
     "metadata": {},
     "output_type": "display_data"
    }
   ],
   "source": [
    "import pandas as pd\n",
    "from matplotlib import pyplot as plt\n",
    "\n",
    "data = [['\\u03B1=0.25, \\u03C3=0.5', 0.5454545454545454], \n",
    "        ['\\u03B1=0.25, \\u03C3=1', 0.3076923076923077], \n",
    "        ['\\u03B1=0.25, \\u03C3=1.5', 0.21428571428571427], \n",
    "        ['\\u03B1=0.5, \\u03C3=0.5', 1], \n",
    "        ['\\u03B1=0.5, \\u03C3=1', 1],\n",
    "        ['\\u03B1=0.5, \\u03C3=1.5', 1],\n",
    "        ['\\u03B1=0.75, \\u03C3=0.5', 1.8333333333333333], \n",
    "        ['\\u03B1=0.75, \\u03C3=1', 3.25],\n",
    "        ['\\u03B1=0.75, \\u03C3=1.5', 4.666666666666667]]\n",
    "\n",
    "data = pd.DataFrame(data, columns = ['Object', 'Value']) \n",
    "\n",
    "ax = plt.subplot(111) #specify a subplot\n",
    "\n",
    "y_pos = range(len(bars))\n",
    "bars = ax.bar(data['Object'], data['Value']) #Plot data on subplot axis\n",
    "\n",
    "plt.xticks(rotation=90)\n",
    "\n",
    "plt.legend()\n",
    "\n",
    "plt.show()\n",
    "\n"
   ]
  },
  {
   "cell_type": "markdown",
   "metadata": {},
   "source": [
    "# Question 1"
   ]
  },
  {
   "cell_type": "markdown",
   "metadata": {},
   "source": [
    "**Explain how you solve the model**"
   ]
  },
  {
   "cell_type": "code",
   "execution_count": 11,
   "metadata": {},
   "outputs": [
    {
     "ename": "AttributeError",
     "evalue": "module 'inauguralproject' has no attribute 'square'",
     "output_type": "error",
     "traceback": [
      "\u001b[0;31m---------------------------------------------------------------------------\u001b[0m",
      "\u001b[0;31mAttributeError\u001b[0m                            Traceback (most recent call last)",
      "\u001b[0;32m/var/folders/fb/9w8xctyd7h3_f4xw9jy5br100000gn/T/ipykernel_73049/3197735493.py\u001b[0m in \u001b[0;36m<module>\u001b[0;34m\u001b[0m\n\u001b[1;32m      2\u001b[0m \u001b[0;34m\u001b[0m\u001b[0m\n\u001b[1;32m      3\u001b[0m \u001b[0ma\u001b[0m \u001b[0;34m=\u001b[0m \u001b[0mnp\u001b[0m\u001b[0;34m.\u001b[0m\u001b[0marray\u001b[0m\u001b[0;34m(\u001b[0m\u001b[0;34m[\u001b[0m\u001b[0;36m1\u001b[0m\u001b[0;34m,\u001b[0m\u001b[0;36m2\u001b[0m\u001b[0;34m,\u001b[0m\u001b[0;36m3\u001b[0m\u001b[0;34m]\u001b[0m\u001b[0;34m)\u001b[0m\u001b[0;34m\u001b[0m\u001b[0;34m\u001b[0m\u001b[0m\n\u001b[0;32m----> 4\u001b[0;31m \u001b[0mb\u001b[0m \u001b[0;34m=\u001b[0m \u001b[0minauguralproject\u001b[0m\u001b[0;34m.\u001b[0m\u001b[0msquare\u001b[0m\u001b[0;34m(\u001b[0m\u001b[0ma\u001b[0m\u001b[0;34m)\u001b[0m\u001b[0;34m\u001b[0m\u001b[0;34m\u001b[0m\u001b[0m\n\u001b[0m\u001b[1;32m      5\u001b[0m \u001b[0mprint\u001b[0m\u001b[0;34m(\u001b[0m\u001b[0mb\u001b[0m\u001b[0;34m)\u001b[0m\u001b[0;34m\u001b[0m\u001b[0;34m\u001b[0m\u001b[0m\n",
      "\u001b[0;31mAttributeError\u001b[0m: module 'inauguralproject' has no attribute 'square'"
     ]
    }
   ],
   "source": [
    "# code for solving the model (remember documentation and comments)\n",
    "\n",
    "a = np.array([1,2,3])\n",
    "b = inauguralproject.square(a)\n",
    "print(b)"
   ]
  },
  {
   "cell_type": "markdown",
   "metadata": {},
   "source": [
    "# Question 2"
   ]
  },
  {
   "cell_type": "markdown",
   "metadata": {},
   "source": [
    "Explain your code and procedure"
   ]
  },
  {
   "cell_type": "code",
   "execution_count": 3,
   "metadata": {},
   "outputs": [],
   "source": [
    "# code"
   ]
  },
  {
   "cell_type": "markdown",
   "metadata": {},
   "source": [
    "# Question 3"
   ]
  },
  {
   "cell_type": "markdown",
   "metadata": {},
   "source": [
    "Explain your code and procedure"
   ]
  },
  {
   "cell_type": "code",
   "execution_count": 4,
   "metadata": {},
   "outputs": [],
   "source": [
    "# code"
   ]
  },
  {
   "cell_type": "markdown",
   "metadata": {},
   "source": [
    "ADD CONCISE CONLUSION."
   ]
  }
 ],
 "metadata": {
  "kernelspec": {
   "display_name": "base",
   "language": "python",
   "name": "python3"
  },
  "language_info": {
   "codemirror_mode": {
    "name": "ipython",
    "version": 3
   },
   "file_extension": ".py",
   "mimetype": "text/x-python",
   "name": "python",
   "nbconvert_exporter": "python",
   "pygments_lexer": "ipython3",
   "version": "3.9.13"
  },
  "toc-autonumbering": true,
  "vscode": {
   "interpreter": {
    "hash": "47ef90cdf3004d3f859f1fb202523c65c07ba7c22eefd261b181f4744e2d0403"
   }
  }
 },
 "nbformat": 4,
 "nbformat_minor": 4
}
