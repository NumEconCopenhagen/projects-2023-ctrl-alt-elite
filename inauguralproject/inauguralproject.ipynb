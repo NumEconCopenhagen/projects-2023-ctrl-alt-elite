{
 "cells": [
  {
   "cell_type": "markdown",
   "metadata": {},
   "source": [
    "# Inaugural Project"
   ]
  },
  {
   "attachments": {},
   "cell_type": "markdown",
   "metadata": {},
   "source": [
    "> **Note the following:** \n",
    "> 1. This is an example of how to structure your **inaugural project**.\n",
    "> 1. Remember the general advice on structuring and commenting your code\n",
    "> 1. The `inauguralproject.py` file includes a function which can be used multiple times in this notebook."
   ]
  },
  {
   "cell_type": "markdown",
   "metadata": {},
   "source": [
    "Imports and set magics:"
   ]
  },
  {
   "cell_type": "code",
   "execution_count": 1,
   "metadata": {},
   "outputs": [],
   "source": [
    "import numpy as np\n",
    "import pandas as pd\n",
    "from matplotlib import pyplot as plt\n",
    "import math\n",
    "from scipy import optimize\n",
    "\n",
    "# autoreload modules when code is run. Otherwise, python will not see recent changes. \n",
    "%load_ext autoreload\n",
    "%autoreload 2\n",
    "\n",
    "# Import your own code\n",
    "import inauguralproject as model\n",
    "hsm = model.HouseholdSpecializationModelClass()"
   ]
  },
  {
   "cell_type": "markdown",
   "metadata": {},
   "source": [
    "# Question 1"
   ]
  },
  {
   "attachments": {},
   "cell_type": "markdown",
   "metadata": {},
   "source": [
    "To solve the household model, we start by defining the values given to alpha and sigma. Next we create a loop in a loop that maximize the utility of the choices given to the household, for the values of alpha and sigma. \n",
    "\n",
    "In the loop we used the solve_descrete model given from the assignment text, and calculated the different values for HF and HM. \n",
    "\n",
    "Finally we plottet HF/HM for the different values of alpha and sigma."
   ]
  },
  {
   "cell_type": "code",
   "execution_count": 2,
   "metadata": {},
   "outputs": [],
   "source": [
    "hsm.par.alpha = 0.4"
   ]
  },
  {
   "cell_type": "code",
   "execution_count": 3,
   "metadata": {},
   "outputs": [
    {
     "name": "stdout",
     "output_type": "stream",
     "text": [
      "LM: 3.5 for alpha and sigma: (0.4, 1.0)\n",
      "LF: 5.5 for alpha and sigma: (0.4, 1.0)\n",
      "HM: 5.5 for alpha and sigma: (0.4, 1.0)\n",
      "HF: 3.5 for alpha and sigma: (0.4, 1.0)\n"
     ]
    }
   ],
   "source": [
    "dsol = hsm.solve_discrete()\n",
    "print(f'LM: {dsol.LM} for alpha and sigma: {hsm.par.alpha, hsm.par.sigma}')\n",
    "print(f'LF: {dsol.LF} for alpha and sigma: {hsm.par.alpha, hsm.par.sigma}')\n",
    "print(f'HM: {dsol.HM} for alpha and sigma: {hsm.par.alpha, hsm.par.sigma}')\n",
    "print(f'HF: {dsol.HF} for alpha and sigma: {hsm.par.alpha, hsm.par.sigma}')"
   ]
  },
  {
   "cell_type": "code",
   "execution_count": 4,
   "metadata": {},
   "outputs": [
    {
     "name": "stderr",
     "output_type": "stream",
     "text": [
      "/workspaces/projects-2023-ctrl-alt-elite/inauguralproject/inauguralproject.py:60: RuntimeWarning: divide by zero encountered in reciprocal\n",
      "  H = ((1-par.alpha)*HM**((par.sigma-1)/par.sigma) + par.alpha*HF**((par.sigma-1)/par.sigma))**(par.sigma/(par.sigma-1))\n"
     ]
    },
    {
     "name": "stdout",
     "output_type": "stream",
     "text": [
      "HF/HM: 0.5454545454545454 for alpha and sigma: (0.25, 0.5)\n",
      "HF/HM: 0.3076923076923077 for alpha and sigma: (0.25, 1.0)\n",
      "HF/HM: 0.21428571428571427 for alpha and sigma: (0.25, 1.5)\n",
      "HF/HM: 1.0 for alpha and sigma: (0.5, 0.5)\n",
      "HF/HM: 1.0 for alpha and sigma: (0.5, 1.0)\n",
      "HF/HM: 1.0 for alpha and sigma: (0.5, 1.5)\n",
      "HF/HM: 1.8333333333333333 for alpha and sigma: (0.75, 0.5)\n",
      "HF/HM: 3.25 for alpha and sigma: (0.75, 1.0)\n",
      "HF/HM: 4.666666666666667 for alpha and sigma: (0.75, 1.5)\n"
     ]
    }
   ],
   "source": [
    "# Defining values of alpha and sigma\n",
    "alpha_vec = np.array([0.25, 0.5, 0.75])\n",
    "sigma_vec = np.array([0.5, 1., 1.5])\n",
    "\n",
    "Female_Male = []\n",
    "\n",
    "#Looping over different values of alpha and sigma, and caluclating the ratio of HF and HM\n",
    "for i in alpha_vec:\n",
    "    for j in sigma_vec:\n",
    "        hsm.par.alpha = i\n",
    "        hsm.par.sigma = j\n",
    "\n",
    "        Q1sol = hsm.solve_discrete()\n",
    "\n",
    "        print(f'HF/HM: {Q1sol.HF/Q1sol.HM} for alpha and sigma: {hsm.par.alpha, hsm.par.sigma}')\n",
    "\n",
    "        Female_Male.append(Q1sol.HF/Q1sol.HM)"
   ]
  },
  {
   "cell_type": "code",
   "execution_count": 5,
   "metadata": {},
   "outputs": [
    {
     "name": "stderr",
     "output_type": "stream",
     "text": [
      "No artists with labels found to put in legend.  Note that artists whose label start with an underscore are ignored when legend() is called with no argument.\n"
     ]
    },
    {
     "data": {
      "image/png": "[encoded data removed]",
      "text/plain": [
       "<Figure size 640x480 with 1 Axes>"
      ]
     },
     "metadata": {},
     "output_type": "display_data"
    }
   ],
   "source": [
    "\n",
    "data = [['\\u03B1=0.25, \\u03C3=0.5', 0.5454545454545454], \n",
    "        ['\\u03B1=0.25, \\u03C3=1', 0.3076923076923077], \n",
    "        ['\\u03B1=0.25, \\u03C3=1.5', 0.21428571428571427], \n",
    "        ['\\u03B1=0.5, \\u03C3=0.5', 1], \n",
    "        ['\\u03B1=0.5, \\u03C3=1', 1],\n",
    "        ['\\u03B1=0.5, \\u03C3=1.5', 1],\n",
    "        ['\\u03B1=0.75, \\u03C3=0.5', 1.8333333333333333], \n",
    "        ['\\u03B1=0.75, \\u03C3=1', 3.25],\n",
    "        ['\\u03B1=0.75, \\u03C3=1.5', 4.666666666666667]]\n",
    "\n",
    "\n",
    "data = pd.DataFrame(data, columns = ['Object', 'Value']) \n",
    "\n",
    "# Plotting HF/HM for each alpha and sigma combinations\n",
    "ax = plt.subplot(111) #specify a subplot\n",
    "\n",
    "bars = ax.bar(data['Object'], data['Value']) #Plot data on subplot axis\n",
    "y_pos = range(len(bars))\n",
    "\n",
    "plt.ylabel('HF/HM')\n",
    "plt.xticks(rotation=90)\n",
    "plt.legend()\n",
    "plt.show()"
   ]
  },
  {
   "cell_type": "markdown",
   "metadata": {},
   "source": [
    "# Question 2"
   ]
  },
  {
   "cell_type": "markdown",
   "metadata": {},
   "source": [
    "Explain your code and procedure"
   ]
  },
  {
   "cell_type": "code",
   "execution_count": 6,
   "metadata": {},
   "outputs": [
    {
     "name": "stdout",
     "output_type": "stream",
     "text": [
      "[0.22314355131420976, 0.0, 0.0, -0.11778303565638351, -0.2231435513142097]\n",
      "[-0.2231435513142097, -0.10536051565782628, 0.0, 0.09531017980432493, 0.1823215567939546]\n"
     ]
    }
   ],
   "source": [
    "wF_vec = np.array([0.8, 0.9, 1.0, 1.1, 1.2])\n",
    "\n",
    "log_HF_HM = []\n",
    "log_wF_wM = []\n",
    "\n",
    "hsm.par.alpha = 0.5\n",
    "hsm.par.sigma = 1\n",
    "\n",
    "for i in wF_vec:\n",
    "    hsm.par.wF = i\n",
    "    \n",
    "    #print(f'log wF/wM: {hsm.par.wF/hsm.par.wM} for wF: {hsm.par.wF}')\n",
    "\n",
    "    Q2sol = hsm.solve_discrete()\n",
    "\n",
    "    log_HF_HM.append(math.log(Q2sol.HF/Q2sol.HM))\n",
    "\n",
    "    log_wF_wM.append(math.log(hsm.par.wF/hsm.par.wM))\n",
    "\n",
    "\n",
    "print(log_HF_HM)\n",
    "print(log_wF_wM)\n"
   ]
  },
  {
   "cell_type": "code",
   "execution_count": 140,
   "metadata": {},
   "outputs": [
    {
     "data": {
      "image/png": "[encoded data removed]",
      "text/plain": [
       "<Figure size 400x400 with 1 Axes>"
      ]
     },
     "metadata": {},
     "output_type": "display_data"
    }
   ],
   "source": [
    "#Creating a scatter plot with log(wf/wM) and log(HF/HM)\n",
    "fig = plt.figure(figsize=(4,4))\n",
    "ax = fig.add_subplot(1,1,1)\n",
    "ax.plot(log_HF_HM,log_wF_wM)\n",
    "ax.scatter(log_HF_HM,log_wF_wM)\n",
    "ax.set_title('TITLE')\n",
    "ax.set_xlabel('$log(HF/HM)$')\n",
    "ax.set_ylabel('$log(wF/wM)$')\n",
    "\n",
    "\n",
    "annotations=[\"wF: 0.8\",\"wF: 0.9\",\"wF: 1.0\",\"wF: 1.1\",\"wF: 1.2\"]\n",
    "for i, label in enumerate(annotations):\n",
    "    plt.annotate(label, (log_HF_HM[i], log_wF_wM[i]))"
   ]
  },
  {
   "cell_type": "markdown",
   "metadata": {},
   "source": [
    "# Question 3"
   ]
  },
  {
   "attachments": {},
   "cell_type": "markdown",
   "metadata": {},
   "source": [
    "Explain your code and procedure\n",
    "\n",
    "We now assume that the choice set is continuous"
   ]
  },
  {
   "cell_type": "code",
   "execution_count": 7,
   "metadata": {},
   "outputs": [],
   "source": [
    "# code\n",
    "csol = hsm.solve_cont()"
   ]
  },
  {
   "cell_type": "code",
   "execution_count": 8,
   "metadata": {},
   "outputs": [
    {
     "data": {
      "text/plain": [
       "namespace(LM_vec=array([0., 0., 0., 0., 0.]),\n",
       "          HM_vec=array([0., 0., 0., 0., 0.]),\n",
       "          LF_vec=array([0., 0., 0., 0., 0.]),\n",
       "          HF_vec=array([0., 0., 0., 0., 0.]),\n",
       "          beta0=nan,\n",
       "          beta1=nan,\n",
       "          LM=3.12520469375339,\n",
       "          HM=4.806326797767162,\n",
       "          LF=5.504336530427342,\n",
       "          HF=3.9963476123674124)"
      ]
     },
     "execution_count": 8,
     "metadata": {},
     "output_type": "execute_result"
    }
   ],
   "source": [
    "hsm.sol"
   ]
  },
  {
   "cell_type": "markdown",
   "metadata": {},
   "source": [
    "ADD CONCISE CONLUSION."
   ]
  },
  {
   "attachments": {},
   "cell_type": "markdown",
   "metadata": {},
   "source": [
    "# Question 4"
   ]
  },
  {
   "cell_type": "code",
   "execution_count": null,
   "metadata": {},
   "outputs": [],
   "source": [
    "# code"
   ]
  },
  {
   "cell_type": "markdown",
   "metadata": {},
   "source": []
  }
 ],
 "metadata": {
  "kernelspec": {
   "display_name": "base",
   "language": "python",
   "name": "python3"
  },
  "language_info": {
   "codemirror_mode": {
    "name": "ipython",
    "version": 3
   },
   "file_extension": ".py",
   "mimetype": "text/x-python",
   "name": "python",
   "nbconvert_exporter": "python",
   "pygments_lexer": "ipython3",
   "version": "3.10.4"
  },
  "toc-autonumbering": true,
  "vscode": {
   "interpreter": {
    "hash": "47ef90cdf3004d3f859f1fb202523c65c07ba7c22eefd261b181f4744e2d0403"
   }
  }
 },
 "nbformat": 4,
 "nbformat_minor": 4
}
