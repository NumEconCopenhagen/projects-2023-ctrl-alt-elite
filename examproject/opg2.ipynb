{
 "cells": [
  {
   "attachments": {},
   "cell_type": "markdown",
   "metadata": {},
   "source": [
    "## 2. <a id='toc2_'></a>[Problem 2: Labor adjustment costs](#toc0_)"
   ]
  },
  {
   "cell_type": "code",
   "execution_count": 1,
   "metadata": {},
   "outputs": [
    {
     "name": "stdout",
     "output_type": "stream",
     "text": [
      "initializing the model\n",
      "calling.setup()\n"
     ]
    }
   ],
   "source": [
    "#impports and magics\n",
    "import numpy as np\n",
    "from scipy import linalg\n",
    "from scipy import optimize\n",
    "import sympy as sm\n",
    "\n",
    "# local modules\n",
    "import opg2py\n",
    "from opg2py import ProfitClass\n",
    "model = ProfitClass()"
   ]
  },
  {
   "attachments": {},
   "cell_type": "markdown",
   "metadata": {},
   "source": [
    "You own a hair salon. You employ hairdressers, $\\ell_t$, to produce haircuts, $y_t = \\ell_t$.\n",
    "\n",
    "The wage for each haridresser is $w$.\n",
    "\n",
    "The demand for haircuts implies that the price of haircuts you can charge is $p_t = \\kappa_t y_t^{-\\eta}$, where $\\kappa_t$ is a demand-shock and $\\eta \\in (0,1)$ measures the elasticity of demand.\n",
    "\n",
    "Profits are:\n",
    "\n",
    "$$\n",
    "\\Pi_t = p_t y_t - w \\ell_t = \\kappa_t \\ell_t^{1-\\eta} - w \\ell_t\n",
    "$$"
   ]
  },
  {
   "attachments": {},
   "cell_type": "markdown",
   "metadata": {},
   "source": [
    "Baseline parameters are:\n",
    "- $\\eta = 0.5$\n",
    "- $w = 1.0$"
   ]
  },
  {
   "attachments": {},
   "cell_type": "markdown",
   "metadata": {},
   "source": [
    "**Question 1:** Verify numerically that $\\ell_{t}=\\left(\\frac{(1-\\eta)\\kappa_{t}}{w}\\right)^{\\frac{1}{\\eta}}$ maximises profits, for $\\kappa\\in\\left\\{1.0 , 2.0\\right\\}$."
   ]
  },
  {
   "attachments": {},
   "cell_type": "markdown",
   "metadata": {},
   "source": [
    "As statet in the problemset the profits are given by:\n",
    "$$\n",
    "\\Pi_t = p_t y_t - w \\ell_t = \\kappa_t \\ell_t^{1-\\eta} - w \\ell_t\n",
    "$$\n",
    "This can be simplified for the following for $\\kappa=1$\n",
    "$$\n",
    "\\Pi_t=\\ell_t^{0.5}-\\ell_t\n",
    "$$\n",
    "And for $\\kappa=2$\n",
    "$$\n",
    "\\Pi_t=2\\ell_t^{0.5}-\\ell_t\n",
    "$$\n",
    "\n",
    "We see that when $\\kappa=1$ we have the following value for $\\ell_t$:\n",
    "\n",
    "$$\n",
    "\\ell_t=\\left(\\frac{(1-0.5)*1}{1}\\right)^{\\frac{1}{0.5}}\n",
    "\\\\\n",
    "\\ell_t=\\left(\\frac{0.5}{1}\\right)^{\\frac{1}{0.5}}=0.25\n",
    "$$\n",
    "\n",
    "We see that when $\\kappa=2$ we have the following value for $\\ell_t$:\n",
    "$$\n",
    "\\ell_t=\\left(\\frac{(1-0.5)*2}{1}\\right)^{\\frac{1}{0.5}}\n",
    "\\\\\n",
    "\\ell_t=\\left(\\frac{1}{1}\\right)^{\\frac{1}{0.5}}\n",
    "\\\\\n",
    "\\ell_t=1^2=1\n",
    "$$"
   ]
  },
  {
   "attachments": {},
   "cell_type": "markdown",
   "metadata": {},
   "source": [
    "We also make python solve this numiricly in the py.file by using sympy "
   ]
  },
  {
   "cell_type": "code",
   "execution_count": 2,
   "metadata": {},
   "outputs": [
    {
     "name": "stdout",
     "output_type": "stream",
     "text": [
      "Optimal ell_t value for kappa = 1.0: 0.250000000000000\n"
     ]
    }
   ],
   "source": [
    "model = ProfitClass(do_print=False)\n",
    "model.solve_numerical_kappa1()"
   ]
  },
  {
   "cell_type": "code",
   "execution_count": 3,
   "metadata": {},
   "outputs": [
    {
     "name": "stdout",
     "output_type": "stream",
     "text": [
      "Optimal ell_t value for kappa = 2.0: 1.00000000000000\n"
     ]
    }
   ],
   "source": [
    "model = ProfitClass(do_print=False)\n",
    "model.solve_numerical_kappa2()"
   ]
  },
  {
   "attachments": {},
   "cell_type": "markdown",
   "metadata": {},
   "source": [
    "We now consider a *dynamic* version of the model.\n",
    "\n",
    "* The demand-shock is a so-called AR(1) in logs, \n",
    "\n",
    "$$\n",
    "\\log \\kappa_{t} = \\rho \\log \\kappa_{t-1} + \\epsilon_{t},\\,\\,\\, \\epsilon_{t+1} \\sim \\mathcal{N}(-0.5\\sigma_{\\epsilon}^2,\\sigma_{\\epsilon})\n",
    "$$\n",
    "\n",
    "* Any hiring or firing implies a fixed adjustment cost, $\\iota > 0 $.\n",
    "* Future profits are discounted with a monthly factor of $R \\in (0,1)$.\n",
    "\n",
    "The initial demand shock is $\\kappa_{-1} = 1$ and the planning horizon is 10 years, i.e. 120 months so $t \\in \\{0,1,2,\\dots,119\\}$. Initially you don't have any employees, $\\ell_{-1}=0$"
   ]
  },
  {
   "attachments": {},
   "cell_type": "markdown",
   "metadata": {},
   "source": [
    "The *ex post* value of the salon is *conditional* on the shock series is:\n",
    "\n",
    "$$\n",
    "h(\\epsilon_0,\\epsilon_1,\\dots,\\epsilon_{119}) = \\left[\\sum_{t=0}^{119}R^{-t}\\left[\\kappa_{t}\\ell_{t}^{1-\\eta}-w\\ell_{t}-\\boldsymbol{1}_{\\ell_{t}\\neq\\ell_{t-1}}\\iota\\right]\\right]\n",
    "$$\n",
    "\n",
    "The *ex ante* expected value of the salon can be approximated by\n",
    "\n",
    "$$\n",
    "H = \\mathbb{E}[h(\\epsilon_0,\\epsilon_1,\\dots,\\epsilon_{119})] \\approx \\frac{1}{K}\\sum_{k=0}^{K} h(\\epsilon_0^k,\\epsilon_1^k,\\dots,\\epsilon_{119}^k)\n",
    "$$\n",
    "\n",
    "where each $k\\in\\{0,1,\\dots,K-1\\}$ is a random shock series. Maximizing profitability means maximizing $H$.\n"
   ]
  },
  {
   "attachments": {},
   "cell_type": "markdown",
   "metadata": {},
   "source": [
    "Baseline parameters are: \n",
    "\n",
    "- $\\rho = 0.90$\n",
    "- $\\iota = 0.01$\n",
    "- $\\sigma_{\\epsilon} = 0.10$\n",
    "- $R = \\left(1+0.01\\right)^{1/12}$"
   ]
  },
  {
   "attachments": {},
   "cell_type": "markdown",
   "metadata": {},
   "source": [
    "**Question 2:** Calculate $H$ if the policy  $\\ell_{t}=\\left(\\frac{(1-\\eta)\\kappa_{t}}{w}\\right)^{\\frac{1}{\\eta}}$ from question 1 is followed. Choose $K$ so the approximation is good enough to not affect your results substantially."
   ]
  },
  {
   "cell_type": "code",
   "execution_count": 25,
   "metadata": {},
   "outputs": [
    {
     "name": "stdout",
     "output_type": "stream",
     "text": [
      "Expected value of the salon (H): 32.97681620836475\n"
     ]
    }
   ],
   "source": [
    "model = ProfitClass(do_print=False)\n",
    "np.random.seed(101)\n",
    "model.calculate_H()"
   ]
  },
  {
   "cell_type": "code",
   "execution_count": 90,
   "metadata": {},
   "outputs": [
    {
     "name": "stdout",
     "output_type": "stream",
     "text": [
      "Expected value of the salon (H): 27.701718158979006\n"
     ]
    }
   ],
   "source": [
    "# Set parameter values\n",
    "rho = 0.90\n",
    "iota = 0.01\n",
    "sigma_epsilon = 0.10\n",
    "R = (1 + 0.01) ** (1/12)\n",
    "\n",
    "# Specify the number of simulations\n",
    "K = 1000\n",
    "\n",
    "# Initialize variables\n",
    "kappa_prev = 1.0\n",
    "ell_prev = 0\n",
    "ex_post_value = 0\n",
    "\n",
    "# Simulation loop\n",
    "for k in range(K):\n",
    "    ex_post_value_k = 0\n",
    "    kappa_t = np.zeros(120)\n",
    "    \n",
    "    for t in range(120):\n",
    "        # Generate random shock\n",
    "        epsilon_t = np.random.normal(-0.5 * sigma_epsilon**2, sigma_epsilon)\n",
    "        \n",
    "        # Compute demand shock for current month\n",
    "        kappa_t[t] = np.exp(rho * np.log(kappa_prev) + epsilon_t)\n",
    "        \n",
    "        # Calculate optimal number of hairdressers\n",
    "        ell_t = ((1 - 0.5) * kappa_t[t] / 1.0) ** (1 / 0.5)\n",
    "        \n",
    "        # Compute ex post value of the salon for current month\n",
    "        ex_post_value_k += R**(-t) * (kappa_t[t] * ell_t**(1-0.5) - 1.0 * ell_t - (ell_t != ell_prev) * iota)\n",
    "        \n",
    "        # Update previous number of hairdressers\n",
    "        ell_prev = ell_t\n",
    "    \n",
    "    # Add ex post value of the salon for current simulation to total ex post value\n",
    "    ex_post_value += ex_post_value_k\n",
    "\n",
    "# Calculate expected value of the salon\n",
    "H = ex_post_value / K\n",
    "\n",
    "# Print the result\n",
    "print(\"Expected value of the salon (H):\", H)"
   ]
  },
  {
   "attachments": {},
   "cell_type": "markdown",
   "metadata": {},
   "source": [
    "Hmmmm den variere af forskellig grad afhængig af størrelsen på K"
   ]
  },
  {
   "attachments": {},
   "cell_type": "markdown",
   "metadata": {},
   "source": [
    "Next, we consider policies on the form:\n",
    "\n",
    "$$\n",
    "\n",
    "\\ell_{t}=\\begin{cases}\n",
    "\\ell_t^{\\ast}  & \\text{if }\\left|\\ell_{t-1}-\\ell_t^{\\ast} \\right|>\\Delta\\\\\n",
    "\\ell_{t-1} & \\text{else }\n",
    "\\end{cases}\n",
    "\\\\\n",
    "\\text{where}\\,\\,\\ell_t^{\\ast} = \\left(\\frac{(1-\\eta)\\kappa_{t}}{w}\\right)^{\\frac{1}{\\eta}} \\\\\n",
    "\n",
    "$$\n",
    "With $\\Delta \\geq 0$ and $\\Delta = 0$ being the previous policy."
   ]
  },
  {
   "attachments": {},
   "cell_type": "markdown",
   "metadata": {},
   "source": [
    "\n",
    "**Question 3:** Calculate $H$ if the policy above was followed with $\\Delta = 0.05$. Does it improve profitability?"
   ]
  },
  {
   "cell_type": "code",
   "execution_count": 10,
   "metadata": {},
   "outputs": [
    {
     "name": "stdout",
     "output_type": "stream",
     "text": [
      "initializing the model\n",
      "calling.setup()\n",
      "Expected value of the salon with Delta = 0.05: 0.03762912132917731\n"
     ]
    }
   ],
   "source": [
    "profit_model = ProfitClass()\n",
    "H_delta = profit_model.H_Delta(1000)\n",
    "print(\"Expected value of the salon with Delta = 0.05:\", H_delta)"
   ]
  },
  {
   "attachments": {},
   "cell_type": "markdown",
   "metadata": {},
   "source": [
    "**Question 4:** Find the optimal $\\Delta$ maximizing $H$. Illustrate your result."
   ]
  },
  {
   "attachments": {},
   "cell_type": "markdown",
   "metadata": {},
   "source": [
    "\n",
    "**Question 5:** Suggest an alternative policy you believe might improve profitability. Implement and test your policy."
   ]
  },
  {
   "cell_type": "code",
   "execution_count": null,
   "metadata": {},
   "outputs": [],
   "source": [
    "skriv svar her"
   ]
  }
 ],
 "metadata": {
  "kernelspec": {
   "display_name": "base",
   "language": "python",
   "name": "python3"
  },
  "language_info": {
   "codemirror_mode": {
    "name": "ipython",
    "version": 3
   },
   "file_extension": ".py",
   "mimetype": "text/x-python",
   "name": "python",
   "nbconvert_exporter": "python",
   "pygments_lexer": "ipython3",
   "version": "3.9.13"
  },
  "orig_nbformat": 4,
  "vscode": {
   "interpreter": {
    "hash": "399e79a383d8ac04c2e8ace546293471326b9a9f3b06285a8d426c26ca585044"
   }
  }
 },
 "nbformat": 4,
 "nbformat_minor": 2
}
