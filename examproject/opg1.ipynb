{
 "cells": [
  {
   "cell_type": "code",
   "execution_count": 25,
   "metadata": {},
   "outputs": [
    {
     "name": "stdout",
     "output_type": "stream",
     "text": [
      "The autoreload extension is already loaded. To reload it, use:\n",
      "  %reload_ext autoreload\n",
      "initializing the model\n",
      "calling.setup()\n"
     ]
    }
   ],
   "source": [
    "#Import packages\n",
    "import numpy as np\n",
    "from scipy import optimize\n",
    "import sympy as sm\n",
    "from sympy import Symbol\n",
    "from sympy.solvers import solve\n",
    "sm.init_printing(use_unicode=True) # for pretty printing\n",
    "from IPython.display import display\n",
    "import matplotlib.pyplot as plt # baseline modul\n",
    "import ipywidgets as widgets\n",
    "from types import SimpleNamespace\n",
    "\n",
    "# autoreload modules when code is run\n",
    "%load_ext autoreload\n",
    "%autoreload 2\n",
    "\n",
    "# local modules\n",
    "import opg1py\n",
    "from opg1py import ConsModel\n",
    "model = ConsModel()"
   ]
  },
  {
   "attachments": {},
   "cell_type": "markdown",
   "metadata": {},
   "source": [
    "**Question 1:** Verify that the optimal labor supply choice is $L^{\\star}(\\tilde{w}) =\\frac{-\\kappa+\\sqrt{\\kappa^{2}+4\\frac{\\alpha}{\\nu}\\tilde{w}^2}}{2\\tilde{w}}$, where $\\tilde{w} = (1-\\tau)w$, for $G\\in\\left\\{1.0 , 2.0\\right\\}$."
   ]
  },
  {
   "cell_type": "code",
   "execution_count": 26,
   "metadata": {},
   "outputs": [
    {
     "data": {
      "image/png": "[encoded data removed]",
      "text/latex": [
       "$\\displaystyle \\left[ \\frac{- \\kappa v - \\sqrt{v \\left(4 \\alpha w^{2} + \\kappa^{2} v\\right)}}{2 v w}, \\  \\frac{- \\kappa v + \\sqrt{v \\left(4 \\alpha w^{2} + \\kappa^{2} v\\right)}}{2 v w}\\right]$"
      ],
      "text/plain": [
       "⎡          ___________________            ___________________⎤\n",
       "⎢         ╱   ⎛     2    2  ⎞            ╱   ⎛     2    2  ⎞ ⎥\n",
       "⎢-κ⋅v - ╲╱  v⋅⎝4⋅α⋅w  + κ ⋅v⎠   -κ⋅v + ╲╱  v⋅⎝4⋅α⋅w  + κ ⋅v⎠ ⎥\n",
       "⎢─────────────────────────────, ─────────────────────────────⎥\n",
       "⎣            2⋅v⋅w                          2⋅v⋅w            ⎦"
      ]
     },
     "execution_count": 26,
     "metadata": {},
     "output_type": "execute_result"
    }
   ],
   "source": [
    "# Solving the model for L*\n",
    "model.solve_analytical()"
   ]
  }
 ],
 "metadata": {
  "kernelspec": {
   "display_name": "base",
   "language": "python",
   "name": "python3"
  },
  "language_info": {
   "codemirror_mode": {
    "name": "ipython",
    "version": 3
   },
   "file_extension": ".py",
   "mimetype": "text/x-python",
   "name": "python",
   "nbconvert_exporter": "python",
   "pygments_lexer": "ipython3",
   "version": "3.10.9"
  },
  "orig_nbformat": 4
 },
 "nbformat": 4,
 "nbformat_minor": 2
}
