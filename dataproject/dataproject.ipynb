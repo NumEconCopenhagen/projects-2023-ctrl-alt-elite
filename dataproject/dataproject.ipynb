{
 "cells": [
  {
   "attachments": {},
   "cell_type": "markdown",
   "metadata": {},
   "source": [
    "# The relationship between renewable electricity generation and demand in Denmark"
   ]
  },
  {
   "attachments": {},
   "cell_type": "markdown",
   "metadata": {},
   "source": [
    "**In this project we will find and import data from Energinet Danmark showing the  generation of renewable energy in Denmark in 2022. In this analysis, we import, clean, analyze and visualize data.**\n",
    "\n",
    "Renewable electricity is an important factor of the green transition, with Denmark having an ambition of being independent of fossil fuel before 2050. As Denmark is a leader in renewable energy, a deeper understanding of the relationship between renewable electricity demand and production can lead to more informed decisions regarding the optimization of renewable energy usage, which can help to significantly reduce greenhouse gas emissions. Furthermore, Denmark's success in renewable energy can serve as an inspiring model for other countries to follow in their transition towards a sustainable future. \n",
    "\n"
   ]
  },
  {
   "cell_type": "markdown",
   "metadata": {},
   "source": [
    "Imports and set magics:"
   ]
  },
  {
   "cell_type": "code",
   "execution_count": null,
   "metadata": {},
   "outputs": [],
   "source": [
    "!pip install requests;"
   ]
  },
  {
   "cell_type": "code",
   "execution_count": 1,
   "metadata": {},
   "outputs": [],
   "source": [
    "import pandas as pd\n",
    "import numpy as np\n",
    "import matplotlib.pyplot as plt\n",
    "import ipywidgets as widgets\n",
    "import datetime as dt\n",
    "import requests\n",
    "\n",
    "# autoreload modules when code is run\n",
    "%load_ext autoreload\n",
    "%autoreload 2"
   ]
  },
  {
   "cell_type": "markdown",
   "metadata": {},
   "source": [
    "# Read and clean data"
   ]
  },
  {
   "attachments": {},
   "cell_type": "markdown",
   "metadata": {},
   "source": [
    "We import data from the Danish Transmission System Operator (TSO) called Energinet using an API, this is seen in the py.file. It retrieves data related to renewable energy production in Denmark specifically for the year 2022. The imported data includes information such as hourly production values for different renewable sources like offshore wind, onshore wind, solar, and hydro power."
   ]
  },
  {
   "cell_type": "code",
   "execution_count": 14,
   "metadata": {},
   "outputs": [],
   "source": [
    "#Import data\n",
    "import dataproject as datp\n"
   ]
  },
  {
   "cell_type": "code",
   "execution_count": 15,
   "metadata": {},
   "outputs": [],
   "source": [
    "# Save dataframe as df\n",
    "df = datp.df"
   ]
  },
  {
   "attachments": {},
   "cell_type": "markdown",
   "metadata": {},
   "source": [
    "Next we examin the 'HourDK' column, and the code determines if there are any duplicate values present. It compares each timestamp against others in the column to find instances where the same timestamp appears more than once. This check helps ensure the integrity and accuracy of the dataset."
   ]
  },
  {
   "cell_type": "code",
   "execution_count": 16,
   "metadata": {},
   "outputs": [
    {
     "name": "stdout",
     "output_type": "stream",
     "text": [
      "The number of duplicates are: 1\n",
      "Duplicates: {'2022-10-30T02:00:00'}\n",
      "Indicies of observations: Int64Index([3018, 3019, 3020, 3021], dtype='int64')\n"
     ]
    }
   ],
   "source": [
    "#Check for duplicates\n",
    "mylist = df['HourDK'].values.tolist()\n",
    "\n",
    "dup = {x for x in mylist if mylist.count(x) > 2} #More than 2 due to two zones\n",
    "\n",
    "print('The number of duplicates are:', len(dup))\n",
    "print('Duplicates:', dup)\n",
    "\n",
    "dup_index = df.index[df['HourDK'] == next(iter(dup))]\n",
    "print('Indicies of observations:', dup_index)\n"
   ]
  },
  {
   "attachments": {},
   "cell_type": "markdown",
   "metadata": {},
   "source": [
    "The code addresses a specific duplicate entry in the dataset, which occurs at the timestamp '2022-10-30 02:00:00'. This duplication is a result of the transition between summertime and wintertime, where the clock is adjusted by one hour. Despite being a duplicate, this particular entry is intentionally kept in the dataset"
   ]
  },
  {
   "attachments": {},
   "cell_type": "markdown",
   "metadata": {},
   "source": [
    "## Explore data set"
   ]
  },
  {
   "attachments": {},
   "cell_type": "markdown",
   "metadata": {},
   "source": [
    "We clean the data by creating a sub dataframe, which only containts the columns needed for the later analysis. Thereafter, we create aggregated variables and find the total generation in Denmark by grouping the two energy production zones in Denmark; DK1 and DK2."
   ]
  },
  {
   "cell_type": "code",
   "execution_count": 19,
   "metadata": {},
   "outputs": [
    {
     "data": {
      "text/html": [
       "<div>\n",
       "<style scoped>\n",
       "    .dataframe tbody tr th:only-of-type {\n",
       "        vertical-align: middle;\n",
       "    }\n",
       "\n",
       "    .dataframe tbody tr th {\n",
       "        vertical-align: top;\n",
       "    }\n",
       "\n",
       "    .dataframe thead th {\n",
       "        text-align: right;\n",
       "    }\n",
       "</style>\n",
       "<table border=\"1\" class=\"dataframe\">\n",
       "  <thead>\n",
       "    <tr style=\"text-align: right;\">\n",
       "      <th></th>\n",
       "      <th>HourDK</th>\n",
       "      <th>OffshoreWindLt100MW_MWh</th>\n",
       "      <th>OffshoreWindGe100MW_MWh</th>\n",
       "      <th>OnshoreWindLt50kW_MWh</th>\n",
       "      <th>OnshoreWindGe50kW_MWh</th>\n",
       "      <th>HydroPowerMWh</th>\n",
       "      <th>SolarPowerLt10kW_MWh</th>\n",
       "      <th>SolarPowerGe10Lt40kW_MWh</th>\n",
       "      <th>SolarPowerGe40kW_MWh</th>\n",
       "      <th>SolarPowerSelfConMWh</th>\n",
       "      <th>UnknownProdMWh</th>\n",
       "      <th>GrossConsumptionMWh</th>\n",
       "      <th>Offshore_MWh</th>\n",
       "      <th>Onshore_MWh</th>\n",
       "      <th>Solar_MWh</th>\n",
       "    </tr>\n",
       "  </thead>\n",
       "  <tbody>\n",
       "    <tr>\n",
       "      <th>0</th>\n",
       "      <td>2022-01-01T00:00:00</td>\n",
       "      <td>144.484727</td>\n",
       "      <td>1747.386902</td>\n",
       "      <td>4.813434</td>\n",
       "      <td>1273.360534</td>\n",
       "      <td>1.637731</td>\n",
       "      <td>0.056808</td>\n",
       "      <td>0.009113</td>\n",
       "      <td>0.031290</td>\n",
       "      <td>0.000000</td>\n",
       "      <td>5.171680</td>\n",
       "      <td>3611.806640</td>\n",
       "      <td>1891.871629</td>\n",
       "      <td>1278.173968</td>\n",
       "      <td>0.097211</td>\n",
       "    </tr>\n",
       "    <tr>\n",
       "      <th>1</th>\n",
       "      <td>2022-01-01T01:00:00</td>\n",
       "      <td>150.110846</td>\n",
       "      <td>1751.599793</td>\n",
       "      <td>4.744580</td>\n",
       "      <td>1340.005585</td>\n",
       "      <td>1.641966</td>\n",
       "      <td>0.054143</td>\n",
       "      <td>0.009111</td>\n",
       "      <td>0.027780</td>\n",
       "      <td>0.000000</td>\n",
       "      <td>4.867611</td>\n",
       "      <td>3600.315186</td>\n",
       "      <td>1901.710639</td>\n",
       "      <td>1344.750165</td>\n",
       "      <td>0.091034</td>\n",
       "    </tr>\n",
       "    <tr>\n",
       "      <th>2</th>\n",
       "      <td>2022-01-01T02:00:00</td>\n",
       "      <td>130.517198</td>\n",
       "      <td>1796.572266</td>\n",
       "      <td>4.011871</td>\n",
       "      <td>1224.645172</td>\n",
       "      <td>1.637933</td>\n",
       "      <td>0.051622</td>\n",
       "      <td>0.008281</td>\n",
       "      <td>0.028540</td>\n",
       "      <td>0.000000</td>\n",
       "      <td>5.019980</td>\n",
       "      <td>3490.401734</td>\n",
       "      <td>1927.089464</td>\n",
       "      <td>1228.657043</td>\n",
       "      <td>0.088443</td>\n",
       "    </tr>\n",
       "    <tr>\n",
       "      <th>3</th>\n",
       "      <td>2022-01-01T03:00:00</td>\n",
       "      <td>136.758549</td>\n",
       "      <td>1628.485839</td>\n",
       "      <td>3.190033</td>\n",
       "      <td>1049.801178</td>\n",
       "      <td>1.639639</td>\n",
       "      <td>0.056474</td>\n",
       "      <td>0.008878</td>\n",
       "      <td>0.028670</td>\n",
       "      <td>0.000000</td>\n",
       "      <td>4.862911</td>\n",
       "      <td>3316.040405</td>\n",
       "      <td>1765.244388</td>\n",
       "      <td>1052.991211</td>\n",
       "      <td>0.094022</td>\n",
       "    </tr>\n",
       "    <tr>\n",
       "      <th>4</th>\n",
       "      <td>2022-01-01T04:00:00</td>\n",
       "      <td>141.342327</td>\n",
       "      <td>1317.700196</td>\n",
       "      <td>2.662985</td>\n",
       "      <td>1026.876068</td>\n",
       "      <td>1.634412</td>\n",
       "      <td>0.048473</td>\n",
       "      <td>0.009171</td>\n",
       "      <td>0.028560</td>\n",
       "      <td>0.000000</td>\n",
       "      <td>3.409950</td>\n",
       "      <td>3311.823486</td>\n",
       "      <td>1459.042523</td>\n",
       "      <td>1029.539053</td>\n",
       "      <td>0.086204</td>\n",
       "    </tr>\n",
       "    <tr>\n",
       "      <th>5</th>\n",
       "      <td>2022-01-01T05:00:00</td>\n",
       "      <td>167.906648</td>\n",
       "      <td>1357.843261</td>\n",
       "      <td>2.244875</td>\n",
       "      <td>865.035126</td>\n",
       "      <td>1.630415</td>\n",
       "      <td>0.045163</td>\n",
       "      <td>0.010003</td>\n",
       "      <td>0.029290</td>\n",
       "      <td>0.000000</td>\n",
       "      <td>1.103199</td>\n",
       "      <td>3297.536743</td>\n",
       "      <td>1525.749909</td>\n",
       "      <td>867.280001</td>\n",
       "      <td>0.084456</td>\n",
       "    </tr>\n",
       "    <tr>\n",
       "      <th>6</th>\n",
       "      <td>2022-01-01T06:00:00</td>\n",
       "      <td>144.208806</td>\n",
       "      <td>1262.609497</td>\n",
       "      <td>1.957026</td>\n",
       "      <td>824.078827</td>\n",
       "      <td>2.048508</td>\n",
       "      <td>0.046989</td>\n",
       "      <td>0.011321</td>\n",
       "      <td>0.029481</td>\n",
       "      <td>0.000000</td>\n",
       "      <td>1.365939</td>\n",
       "      <td>3357.753052</td>\n",
       "      <td>1406.818303</td>\n",
       "      <td>826.035853</td>\n",
       "      <td>0.087791</td>\n",
       "    </tr>\n",
       "    <tr>\n",
       "      <th>7</th>\n",
       "      <td>2022-01-01T07:00:00</td>\n",
       "      <td>135.396731</td>\n",
       "      <td>1286.045472</td>\n",
       "      <td>1.348905</td>\n",
       "      <td>611.435715</td>\n",
       "      <td>2.059080</td>\n",
       "      <td>0.048818</td>\n",
       "      <td>0.011868</td>\n",
       "      <td>0.027100</td>\n",
       "      <td>0.000000</td>\n",
       "      <td>4.719170</td>\n",
       "      <td>3375.053589</td>\n",
       "      <td>1421.442203</td>\n",
       "      <td>612.784620</td>\n",
       "      <td>0.087786</td>\n",
       "    </tr>\n",
       "    <tr>\n",
       "      <th>8</th>\n",
       "      <td>2022-01-01T08:00:00</td>\n",
       "      <td>80.999092</td>\n",
       "      <td>1027.472138</td>\n",
       "      <td>0.937185</td>\n",
       "      <td>454.381866</td>\n",
       "      <td>2.059469</td>\n",
       "      <td>0.053785</td>\n",
       "      <td>0.012217</td>\n",
       "      <td>0.157525</td>\n",
       "      <td>0.000000</td>\n",
       "      <td>4.742440</td>\n",
       "      <td>3494.955932</td>\n",
       "      <td>1108.471230</td>\n",
       "      <td>455.319051</td>\n",
       "      <td>0.223527</td>\n",
       "    </tr>\n",
       "    <tr>\n",
       "      <th>9</th>\n",
       "      <td>2022-01-01T09:00:00</td>\n",
       "      <td>45.681921</td>\n",
       "      <td>692.309944</td>\n",
       "      <td>0.635733</td>\n",
       "      <td>326.988037</td>\n",
       "      <td>2.060531</td>\n",
       "      <td>0.223377</td>\n",
       "      <td>0.024926</td>\n",
       "      <td>8.828510</td>\n",
       "      <td>0.139187</td>\n",
       "      <td>3.847649</td>\n",
       "      <td>3630.294311</td>\n",
       "      <td>737.991865</td>\n",
       "      <td>327.623770</td>\n",
       "      <td>9.216000</td>\n",
       "    </tr>\n",
       "  </tbody>\n",
       "</table>\n",
       "</div>"
      ],
      "text/plain": [
       "                HourDK  OffshoreWindLt100MW_MWh  OffshoreWindGe100MW_MWh  \\\n",
       "0  2022-01-01T00:00:00               144.484727              1747.386902   \n",
       "1  2022-01-01T01:00:00               150.110846              1751.599793   \n",
       "2  2022-01-01T02:00:00               130.517198              1796.572266   \n",
       "3  2022-01-01T03:00:00               136.758549              1628.485839   \n",
       "4  2022-01-01T04:00:00               141.342327              1317.700196   \n",
       "5  2022-01-01T05:00:00               167.906648              1357.843261   \n",
       "6  2022-01-01T06:00:00               144.208806              1262.609497   \n",
       "7  2022-01-01T07:00:00               135.396731              1286.045472   \n",
       "8  2022-01-01T08:00:00                80.999092              1027.472138   \n",
       "9  2022-01-01T09:00:00                45.681921               692.309944   \n",
       "\n",
       "   OnshoreWindLt50kW_MWh  OnshoreWindGe50kW_MWh  HydroPowerMWh  \\\n",
       "0               4.813434            1273.360534       1.637731   \n",
       "1               4.744580            1340.005585       1.641966   \n",
       "2               4.011871            1224.645172       1.637933   \n",
       "3               3.190033            1049.801178       1.639639   \n",
       "4               2.662985            1026.876068       1.634412   \n",
       "5               2.244875             865.035126       1.630415   \n",
       "6               1.957026             824.078827       2.048508   \n",
       "7               1.348905             611.435715       2.059080   \n",
       "8               0.937185             454.381866       2.059469   \n",
       "9               0.635733             326.988037       2.060531   \n",
       "\n",
       "   SolarPowerLt10kW_MWh  SolarPowerGe10Lt40kW_MWh  SolarPowerGe40kW_MWh  \\\n",
       "0              0.056808                  0.009113              0.031290   \n",
       "1              0.054143                  0.009111              0.027780   \n",
       "2              0.051622                  0.008281              0.028540   \n",
       "3              0.056474                  0.008878              0.028670   \n",
       "4              0.048473                  0.009171              0.028560   \n",
       "5              0.045163                  0.010003              0.029290   \n",
       "6              0.046989                  0.011321              0.029481   \n",
       "7              0.048818                  0.011868              0.027100   \n",
       "8              0.053785                  0.012217              0.157525   \n",
       "9              0.223377                  0.024926              8.828510   \n",
       "\n",
       "   SolarPowerSelfConMWh  UnknownProdMWh  GrossConsumptionMWh  Offshore_MWh  \\\n",
       "0              0.000000        5.171680          3611.806640   1891.871629   \n",
       "1              0.000000        4.867611          3600.315186   1901.710639   \n",
       "2              0.000000        5.019980          3490.401734   1927.089464   \n",
       "3              0.000000        4.862911          3316.040405   1765.244388   \n",
       "4              0.000000        3.409950          3311.823486   1459.042523   \n",
       "5              0.000000        1.103199          3297.536743   1525.749909   \n",
       "6              0.000000        1.365939          3357.753052   1406.818303   \n",
       "7              0.000000        4.719170          3375.053589   1421.442203   \n",
       "8              0.000000        4.742440          3494.955932   1108.471230   \n",
       "9              0.139187        3.847649          3630.294311    737.991865   \n",
       "\n",
       "   Onshore_MWh  Solar_MWh  \n",
       "0  1278.173968   0.097211  \n",
       "1  1344.750165   0.091034  \n",
       "2  1228.657043   0.088443  \n",
       "3  1052.991211   0.094022  \n",
       "4  1029.539053   0.086204  \n",
       "5   867.280001   0.084456  \n",
       "6   826.035853   0.087791  \n",
       "7   612.784620   0.087786  \n",
       "8   455.319051   0.223527  \n",
       "9   327.623770   9.216000  "
      ]
     },
     "execution_count": 19,
     "metadata": {},
     "output_type": "execute_result"
    }
   ],
   "source": [
    "# We create a sub dataframe\n",
    "df2 = df[['HourDK', 'PriceArea', 'OffshoreWindLt100MW_MWh', 'OffshoreWindGe100MW_MWh', 'OnshoreWindLt50kW_MWh', 'OnshoreWindGe50kW_MWh', 'HydroPowerMWh', 'SolarPowerLt10kW_MWh', 'SolarPowerGe10Lt40kW_MWh', 'SolarPowerGe40kW_MWh', 'SolarPowerSelfConMWh', 'UnknownProdMWh', 'GrossConsumptionMWh']].copy()\n",
    "\n",
    "# Create new variables\n",
    "df2['Offshore_MWh'] = df2['OffshoreWindLt100MW_MWh'] + df2['OffshoreWindGe100MW_MWh']\n",
    "df2['Onshore_MWh'] = df2['OnshoreWindLt50kW_MWh'] + df2['OnshoreWindGe50kW_MWh']\n",
    "df2['Solar_MWh'] = df2['SolarPowerLt10kW_MWh'] + df2['SolarPowerGe10Lt40kW_MWh'] + df2['SolarPowerGe40kW_MWh'] + df2['SolarPowerSelfConMWh']\n",
    "\n",
    "# Group DK1 and DK2 to get total generation and consumption for DK\n",
    "df2 = df2.groupby(['HourDK'], as_index=False).sum()\n",
    "\n",
    "df2.head(10)"
   ]
  },
  {
   "attachments": {},
   "cell_type": "markdown",
   "metadata": {},
   "source": [
    "The dataframe shows the hourly data of the electricity generation. It is split up in the energy from offshore wind, onshore wind, hydro power, solar power and unkown production. \n",
    "Ofshore wind, onshore wind and solar wind are then added together to get a gross consumption for the three groups, where it can be seen, that onshore wind is the biggest contributor of the electricity generation groups.\n"
   ]
  },
  {
   "cell_type": "markdown",
   "metadata": {},
   "source": [
    "# Analysis"
   ]
  },
  {
   "attachments": {},
   "cell_type": "markdown",
   "metadata": {},
   "source": [
    "### Summary Statistics"
   ]
  },
  {
   "attachments": {},
   "cell_type": "markdown",
   "metadata": {},
   "source": [
    "We begin by making summary statistics for the gross consumption, offshore wind, onshore wind, solar power and hydro power."
   ]
  },
  {
   "cell_type": "code",
   "execution_count": 7,
   "metadata": {},
   "outputs": [
    {
     "data": {
      "text/html": [
       "<div>\n",
       "<style scoped>\n",
       "    .dataframe tbody tr th:only-of-type {\n",
       "        vertical-align: middle;\n",
       "    }\n",
       "\n",
       "    .dataframe tbody tr th {\n",
       "        vertical-align: top;\n",
       "    }\n",
       "\n",
       "    .dataframe thead th {\n",
       "        text-align: right;\n",
       "    }\n",
       "</style>\n",
       "<table border=\"1\" class=\"dataframe\">\n",
       "  <thead>\n",
       "    <tr style=\"text-align: right;\">\n",
       "      <th></th>\n",
       "      <th>count</th>\n",
       "      <th>min</th>\n",
       "      <th>max</th>\n",
       "      <th>mean</th>\n",
       "    </tr>\n",
       "  </thead>\n",
       "  <tbody>\n",
       "    <tr>\n",
       "      <th>GrossConsumptionMWh</th>\n",
       "      <td>8759.0</td>\n",
       "      <td>2418.566101</td>\n",
       "      <td>6408.334717</td>\n",
       "      <td>4051.110832</td>\n",
       "    </tr>\n",
       "    <tr>\n",
       "      <th>Offshore_MWh</th>\n",
       "      <td>8759.0</td>\n",
       "      <td>0.001374</td>\n",
       "      <td>576.904756</td>\n",
       "      <td>227.423882</td>\n",
       "    </tr>\n",
       "    <tr>\n",
       "      <th>Onshore_MWh</th>\n",
       "      <td>8759.0</td>\n",
       "      <td>3.430430</td>\n",
       "      <td>4089.387108</td>\n",
       "      <td>1173.761187</td>\n",
       "    </tr>\n",
       "    <tr>\n",
       "      <th>Solar_MWh</th>\n",
       "      <td>8759.0</td>\n",
       "      <td>0.080414</td>\n",
       "      <td>1663.678013</td>\n",
       "      <td>251.463328</td>\n",
       "    </tr>\n",
       "    <tr>\n",
       "      <th>HydroPowerMWh</th>\n",
       "      <td>8759.0</td>\n",
       "      <td>0.373985</td>\n",
       "      <td>4.823965</td>\n",
       "      <td>1.706491</td>\n",
       "    </tr>\n",
       "  </tbody>\n",
       "</table>\n",
       "</div>"
      ],
      "text/plain": [
       "                      count          min          max         mean\n",
       "GrossConsumptionMWh  8759.0  2418.566101  6408.334717  4051.110832\n",
       "Offshore_MWh         8759.0     0.001374   576.904756   227.423882\n",
       "Onshore_MWh          8759.0     3.430430  4089.387108  1173.761187\n",
       "Solar_MWh            8759.0     0.080414  1663.678013   251.463328\n",
       "HydroPowerMWh        8759.0     0.373985     4.823965     1.706491"
      ]
     },
     "execution_count": 7,
     "metadata": {},
     "output_type": "execute_result"
    }
   ],
   "source": [
    "# Summary statistics\n",
    "sumstat = df2.agg(\n",
    "    {\n",
    "        \"GrossConsumptionMWh\": [\"count\", \"min\", \"max\", \"mean\"],\n",
    "        \"Offshore_MWh\": [\"count\", \"min\", \"max\", \"mean\"],\n",
    "        \"Onshore_MWh\": [\"count\", \"min\", \"max\", \"mean\"],\n",
    "        \"Solar_MWh\": [\"count\", \"min\", \"max\", \"mean\"],\n",
    "        \"HydroPowerMWh\": [\"count\", \"min\", \"max\", \"mean\"],\n",
    "    \n",
    "    }\n",
    ")\n",
    "\n",
    "# Transposing the table\n",
    "sumstat.transpose()"
   ]
  },
  {
   "attachments": {},
   "cell_type": "markdown",
   "metadata": {},
   "source": [
    "The table above shows a descriptive analysis of the danish electricity generation in 2022. The mean gross consumption of renewable energy is 4050.8 MWH every hour. We see that the onshore production from windmill farms, is by far the biggest contributor of renewable energy with a mean production of 1173,7 MWH. With the smallest contributor being hydropower, this is to be expected as the country doesn’t have a big production of this. "
   ]
  },
  {
   "attachments": {},
   "cell_type": "markdown",
   "metadata": {},
   "source": [
    "### Correlation"
   ]
  },
  {
   "cell_type": "code",
   "execution_count": 8,
   "metadata": {},
   "outputs": [
    {
     "data": {
      "text/html": [
       "<div>\n",
       "<style scoped>\n",
       "    .dataframe tbody tr th:only-of-type {\n",
       "        vertical-align: middle;\n",
       "    }\n",
       "\n",
       "    .dataframe tbody tr th {\n",
       "        vertical-align: top;\n",
       "    }\n",
       "\n",
       "    .dataframe thead th {\n",
       "        text-align: right;\n",
       "    }\n",
       "</style>\n",
       "<table border=\"1\" class=\"dataframe\">\n",
       "  <thead>\n",
       "    <tr style=\"text-align: right;\">\n",
       "      <th></th>\n",
       "      <th>GrossConsumptionMWh</th>\n",
       "      <th>Offshore_MWh</th>\n",
       "      <th>Onshore_MWh</th>\n",
       "      <th>Solar_MWh</th>\n",
       "      <th>HydroPowerMWh</th>\n",
       "    </tr>\n",
       "  </thead>\n",
       "  <tbody>\n",
       "    <tr>\n",
       "      <th>GrossConsumptionMWh</th>\n",
       "      <td>1.000000</td>\n",
       "      <td>0.323313</td>\n",
       "      <td>0.395061</td>\n",
       "      <td>0.175604</td>\n",
       "      <td>0.506153</td>\n",
       "    </tr>\n",
       "    <tr>\n",
       "      <th>Offshore_MWh</th>\n",
       "      <td>0.323313</td>\n",
       "      <td>1.000000</td>\n",
       "      <td>0.841178</td>\n",
       "      <td>-0.193434</td>\n",
       "      <td>0.255296</td>\n",
       "    </tr>\n",
       "    <tr>\n",
       "      <th>Onshore_MWh</th>\n",
       "      <td>0.395061</td>\n",
       "      <td>0.841178</td>\n",
       "      <td>1.000000</td>\n",
       "      <td>-0.075649</td>\n",
       "      <td>0.262226</td>\n",
       "    </tr>\n",
       "    <tr>\n",
       "      <th>Solar_MWh</th>\n",
       "      <td>0.175604</td>\n",
       "      <td>-0.193434</td>\n",
       "      <td>-0.075649</td>\n",
       "      <td>1.000000</td>\n",
       "      <td>-0.239494</td>\n",
       "    </tr>\n",
       "    <tr>\n",
       "      <th>HydroPowerMWh</th>\n",
       "      <td>0.506153</td>\n",
       "      <td>0.255296</td>\n",
       "      <td>0.262226</td>\n",
       "      <td>-0.239494</td>\n",
       "      <td>1.000000</td>\n",
       "    </tr>\n",
       "  </tbody>\n",
       "</table>\n",
       "</div>"
      ],
      "text/plain": [
       "                     GrossConsumptionMWh  Offshore_MWh  Onshore_MWh  \\\n",
       "GrossConsumptionMWh             1.000000      0.323313     0.395061   \n",
       "Offshore_MWh                    0.323313      1.000000     0.841178   \n",
       "Onshore_MWh                     0.395061      0.841178     1.000000   \n",
       "Solar_MWh                       0.175604     -0.193434    -0.075649   \n",
       "HydroPowerMWh                   0.506153      0.255296     0.262226   \n",
       "\n",
       "                     Solar_MWh  HydroPowerMWh  \n",
       "GrossConsumptionMWh   0.175604       0.506153  \n",
       "Offshore_MWh         -0.193434       0.255296  \n",
       "Onshore_MWh          -0.075649       0.262226  \n",
       "Solar_MWh             1.000000      -0.239494  \n",
       "HydroPowerMWh        -0.239494       1.000000  "
      ]
     },
     "execution_count": 8,
     "metadata": {},
     "output_type": "execute_result"
    }
   ],
   "source": [
    "# New sub df\n",
    "df3 = df2[['HourDK', 'GrossConsumptionMWh', 'Offshore_MWh', 'Onshore_MWh', 'Solar_MWh', 'HydroPowerMWh']]\n",
    "\n",
    "df3.corr()"
   ]
  },
  {
   "attachments": {},
   "cell_type": "markdown",
   "metadata": {},
   "source": [
    "The table above shows the correlation between electricity demand, offshore generation, onshore generation, solar generation and electricity generation from hydropower.\n",
    "\n",
    "It is desirable to have electricity generation correlate positivly with demand. However, as we see there is only a weak positive correlation between electricity generation from offshore wind, onshore wind and solar and demand. There is a stronger correlation between demand and hydropower. This could be due to electricity from hydropower being imported from Norway when demand is high, as Denmark doesn't generate hydropower.\n",
    "\n",
    "Noteably there is also a negative correlation between solar power and both types of wind power. This indicates that the wind blows when the sun does not shine and vice versa. From a stability perspective this is ideal due to their intermittent nature.\n",
    "\n",
    "\n",
    "</span>"
   ]
  },
  {
   "attachments": {},
   "cell_type": "markdown",
   "metadata": {},
   "source": [
    "### Graphical analysis"
   ]
  },
  {
   "attachments": {},
   "cell_type": "markdown",
   "metadata": {},
   "source": [
    "To create a graph representing energy generation, the code transforms the original hourly data into daily data. This transformation allows for a clearer visualization of the energy generation patterns over time. By aggregating the hourly data and summing the values for each day, we obtain a dataset that represents the total energy generation for each day. This new dataset can then be used to create a graph that illustrates the daily energy generation trends."
   ]
  },
  {
   "cell_type": "code",
   "execution_count": 21,
   "metadata": {},
   "outputs": [],
   "source": [
    "# Create a new dataframe with selected columns\n",
    "df4 = df2[['HourDK', 'GrossConsumptionMWh', 'Offshore_MWh', 'Onshore_MWh', 'Solar_MWh', 'HydroPowerMWh']].copy()\n",
    "\n",
    "# Convert string datetime column to datetime object\n",
    "df4.loc[:, 'HourDK'] = pd.to_datetime(df4['HourDK'], format='%Y-%m-%d %H:%M:%S')\n",
    "\n",
    "# Convert datetime to date in European date format (dd-mm-yyyy)\n",
    "df4.loc[:, 'date'] = df4['HourDK'].dt.strftime('%Y-%m')\n",
    "\n",
    "# Convert hourly data into daily data by adding all the hours of the day together\n",
    "df4 = df4.groupby('date', as_index=False).sum()\n"
   ]
  },
  {
   "cell_type": "code",
   "execution_count": 10,
   "metadata": {},
   "outputs": [
    {
     "data": {
      "image/png": "[encoded data removed]",
      "text/plain": [
       "<Figure size 640x480 with 1 Axes>"
      ]
     },
     "metadata": {},
     "output_type": "display_data"
    }
   ],
   "source": [
    "# Set the date column as the index\n",
    "date = df4['date']\n",
    "\n",
    "# Create stacked area chart\n",
    "plt.stackplot(date, df4['Offshore_MWh'], df4['Onshore_MWh'], df4['Solar_MWh'], df4['HydroPowerMWh'], labels=['Offshore', 'Onshore', 'Solar', 'Hydro'], colors=['dodgerblue', 'forestgreen', 'gold', 'navy'])\n",
    "plt.legend(loc='upper right')\n",
    "plt.xlabel('Date')\n",
    "plt.ylabel('MWh')\n",
    "plt.xlim([0, 11])\n",
    "plt.ylim([0, 2000000])\n",
    "plt.xticks(rotation=90)\n",
    "plt.title('Electricity generation by source, 2022')\n",
    "plt.show()"
   ]
  },
  {
   "attachments": {},
   "cell_type": "markdown",
   "metadata": {},
   "source": [
    "The figure above provides an overview of the electricity generation distribution throughout the year 2022. It highlights the prominent role of onshore windmill farms as the primary source of green energy, consistently contributing the highest energy generation levels across all seasons. Notably, during the fall and winter months, when wind conditions are generally more favorable, onshore wind production reaches its peak.\n",
    "\n",
    "Furthermore, the data reveals a distinct pattern in solar power generation, with significantly higher levels observed during the spring and summer seasons. This observation aligns with expectations, as these seasons offer greater solar irradiation and longer daylight hours. The seasonality in the dataset indicates a clear relationship between solar energy generation and the annual cycle.\n",
    "\n",
    "Overall, the graph showcases the dynamic nature of renewable energy generation in 2022, highlighting the dominance of onshore wind power and the seasonal variations in solar energy production."
   ]
  },
  {
   "attachments": {},
   "cell_type": "markdown",
   "metadata": {},
   "source": [
    "Next we will look at the relationship between renewable electricity and conventional electricity by comparing the two against each other.\n",
    "\n"
   ]
  },
  {
   "cell_type": "code",
   "execution_count": 23,
   "metadata": {},
   "outputs": [],
   "source": [
    "# Calculate the total renewable energy generation\n",
    "df4['Renew']=(df4['Offshore_MWh']+df4['Onshore_MWh']+df4['Solar_MWh']+df4['HydroPowerMWh'])\n",
    "\n",
    "# Calculate the conventional energy consumption by subtracting the renewable energy generation from the gross consumption\n",
    "\n",
    "df4['Conv']=(df4['GrossConsumptionMWh']-df4['Renew'])\n"
   ]
  },
  {
   "cell_type": "code",
   "execution_count": 24,
   "metadata": {},
   "outputs": [
    {
     "data": {
      "image/png": "[encoded data removed]",
      "text/plain": [
       "<Figure size 640x480 with 1 Axes>"
      ]
     },
     "metadata": {},
     "output_type": "display_data"
    }
   ],
   "source": [
    "# Create stacked area chart\n",
    "plt.stackplot(date, df4['Renew'], df4['Conv'], labels=['Renewables', 'Conventional'], colors=['green', 'gray'])\n",
    "plt.legend(loc='upper right')\n",
    "plt.xlabel('Date')\n",
    "plt.ylabel('MWh')\n",
    "plt.xlim([0, 11])\n",
    "plt.ylim([0, 4*10**6])\n",
    "plt.xticks(rotation=90)\n",
    "plt.title('Renewable and conventional electricity generation, 2022')\n",
    "plt.show()"
   ]
  },
  {
   "attachments": {},
   "cell_type": "markdown",
   "metadata": {},
   "source": [
    "In the figure above the relationship between conventional and renewable electricity is shown. It is clear that more conventional electricity is produced. The total production of electricity is more smooth than the figure of only renewable energy. This indicates that the production of conventional electricity is larger when there is less renewable electricity available.  The figure also shows some seasonality, the generation of total electricity is smaller in the spring and summer than the rest of the year."
   ]
  },
  {
   "cell_type": "markdown",
   "metadata": {},
   "source": [
    "# Conclusion"
   ]
  },
  {
   "attachments": {},
   "cell_type": "markdown",
   "metadata": {},
   "source": [
    "The analysis of renewable electricity and the demand i Denmark, is crucial for optimizing the usage and thereby reducing greenhouse gas emissions. The analysis shows that the biggest contributor to renewable electricity in Denmark is the onshore windmill farms. Overall we find that there is a big production of renwable energy in Denmark and further analysis in this topic could provide insights for policymakers and energy companies to make informed decisions to optimize renewable energy use and move towards a sustainable future."
   ]
  }
 ],
 "metadata": {
  "kernelspec": {
   "display_name": "base",
   "language": "python",
   "name": "python3"
  },
  "language_info": {
   "codemirror_mode": {
    "name": "ipython",
    "version": 3
   },
   "file_extension": ".py",
   "mimetype": "text/x-python",
   "name": "python",
   "nbconvert_exporter": "python",
   "pygments_lexer": "ipython3",
   "version": "3.9.13"
  },
  "toc-autonumbering": true,
  "vscode": {
   "interpreter": {
    "hash": "399e79a383d8ac04c2e8ace546293471326b9a9f3b06285a8d426c26ca585044"
   }
  }
 },
 "nbformat": 4,
 "nbformat_minor": 4
}
